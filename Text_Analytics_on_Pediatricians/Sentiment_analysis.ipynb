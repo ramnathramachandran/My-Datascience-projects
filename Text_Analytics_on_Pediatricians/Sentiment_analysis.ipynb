{
 "cells": [
  {
   "cell_type": "code",
   "execution_count": null,
   "metadata": {
    "collapsed": true
   },
   "outputs": [],
   "source": [
    "\n",
    "import re\n",
    "import pandas as pd\n",
    "from nltk import tokenize\n",
    "import pandas as pd\n",
    "import numpy as np\n",
    "from nltk.tokenize import word_tokenize as wt\n",
    "import nltk\n",
    "import string\n",
    "#nltk.download('averaged_perceptron_tagger')\n",
    "#nltk.download('wordnet')\n",
    "from nltk.corpus import wordnet\n",
    "import ast\n",
    "from nltk.tokenize import word_tokenize as wt\n",
    "from nltk.corpus import stopwords\n",
    "from nltk.stem import PorterStemmer\n",
    "from sklearn.feature_extraction.text import CountVectorizer\n",
    "from sklearn.metrics.pairwise import cosine_similarity"
   ]
  },
  {
   "cell_type": "code",
   "execution_count": null,
   "outputs": [],
   "source": [
    "#Reading Data\n",
    "\n",
    "hgrd=pd.read_excel(r'C:\\Users\\rramn\\Documents\\Healthcare_analytics\\physician_reviews_mining\\healthgrades_latest.xlsx')\n",
    "ratemd=pd.read_excel(r'C:\\Users\\rramn\\Documents\\Healthcare_analytics\\physician_reviews_mining\\Reviews\\ratemds_reviews.xlsx')"
   ],
   "metadata": {
    "collapsed": false,
    "pycharm": {
     "name": "#%%\n"
    }
   }
  },
  {
   "cell_type": "code",
   "execution_count": null,
   "outputs": [],
   "source": [
    "#Pre processing - sentence split\n",
    "sentrm = []\n",
    "senthg=[]\n",
    "nr,nc=hgrd.shape\n",
    "nr1, nc1 = ratemd.shape\n",
    "# hgrd.info()\n",
    "\n",
    "for j in range(nr1):\n",
    "    t1 = ratemd.iloc[j, 2]\n",
    "    #sent1=re.split(\"[\" + string.punctuation + \"]+\", t1)\n",
    "    sent1 = re.split(r'[\\,\\.\\?!][\\'\"\\)\\]]*|and|but', t1)\n",
    "    sentrm.append(sent1)\n",
    "for i in range(nr):\n",
    "    t=hgrd.iloc[i,7]\n",
    "    #sent=re.split(\"[\" + string.punctuation + \"]+\", t)\n",
    "    sent=re.split(r'[\\,\\.\\?!][\\'\"\\)\\]]*|and|but',t)\n",
    "    senthg.append(sent)\n",
    "\n",
    "\n",
    "hgrd['Review_cleaned']=senthg\n",
    "ratemd['Review_cleaned']=sentrm"
   ],
   "metadata": {
    "collapsed": false,
    "pycharm": {
     "name": "#%%\n"
    }
   }
  },
  {
   "cell_type": "code",
   "execution_count": null,
   "outputs": [],
   "source": [
    "#VADER Sentiment analysis\n",
    "l=[]\n",
    "m=[]\n",
    "n=[]\n",
    "from vaderSentiment.vaderSentiment import SentimentIntensityAnalyzer\n",
    "analyser1 = SentimentIntensityAnalyzer()\n",
    "def sentiment_analyzer_scores(sentence):\n",
    "   score = analyser1.polarity_scores(sentence)\n",
    "   #print(\"{:-<40} {}\".format(sentence, str(score)))\n",
    "   #print(score)\n",
    "   if score['compound']>0:\n",
    "       l.append(1)\n",
    "       return \"Positive\",score['compound'] \n",
    "   elif score['compound']<0:       \n",
    "       m.append(1)\n",
    "       return \"Negative\",score['compound']    \n",
    "   else:       \n",
    "       n.append(1)\n",
    "       return \"Neutral\",score['compound']"
   ],
   "metadata": {
    "collapsed": false,
    "pycharm": {
     "name": "#%%\n"
    }
   }
  },
  {
   "cell_type": "code",
   "execution_count": null,
   "outputs": [],
   "source": [
    "#Getting sentiment scores for Healthgrades\n",
    "def sentence_sentiment(df,index=None):\n",
    "    senti_list = []\n",
    "    nr1,nc1 = df.shape\n",
    "    cum_score=[]\n",
    "    name_list=[]\n",
    "    for j in range(nr1):\n",
    "        t2=df.iloc[j,index]\n",
    "        sub_list = []\n",
    "        sub_list1=[]\n",
    "        c=0\n",
    "        nam=df.iloc[j,0]\n",
    "        for x in range(len(t2)):\n",
    "            d = {}\n",
    "            e = {}\n",
    "            f= {}\n",
    "            senti,score = sentiment_analyzer_scores(t2[x])\n",
    "            #print(senti,score)\n",
    "            c=c+score\n",
    "            d[t2[x]] = senti\n",
    "            e[t2[x]] = score\n",
    "            f[t2[x]] = nam\n",
    "            senti_list.append(d)\n",
    "            cum_score.append(e)\n",
    "            name_list.append(f)\n",
    "            #sub_list.append(d)\n",
    "            #sub_list1.append(e)\n",
    "            # for k, v in sub_list:\n",
    "            #     if v == 'Neutral':\n",
    "            #         del sub_list[k]\n",
    "        \n",
    "    return senti_list,cum_score,name_list\n",
    "\n",
    "sentiment,cu_score,dname = sentence_sentiment(hgrd,7)\n",
    "print(len(sentiment))\n",
    "print(len(cu_score))\n",
    "print(len(dname))\n",
    "print(len(l))\n",
    "print(len(m))\n",
    "print(len(n))"
   ],
   "metadata": {
    "collapsed": false,
    "pycharm": {
     "name": "#%%\n"
    }
   }
  },
  {
   "cell_type": "code",
   "execution_count": null,
   "outputs": [],
   "source": [
    "#Getting sentiment scores for Ratemds\n",
    "def sentence_sentiment(df,index=None):\n",
    "    senti_list = []\n",
    "    nr1,nc1 = df.shape\n",
    "    cum_score=[]\n",
    "    name_list=[]\n",
    "    for j in range(nr1):\n",
    "        t2=df.iloc[j,index]\n",
    "        sub_list = []\n",
    "        sub_list1=[]\n",
    "        c=0\n",
    "        nam=df.iloc[j,0]\n",
    "        for x in range(len(t2)):\n",
    "            d = {}\n",
    "            e = {}\n",
    "            f= {}\n",
    "            senti,score = sentiment_analyzer_scores(t2[x])\n",
    "            #print(senti,score)\n",
    "            c=c+score\n",
    "            d[t2[x]] = senti\n",
    "            e[t2[x]] = score\n",
    "            f[t2[x]] = nam\n",
    "            senti_list.append(d)\n",
    "            cum_score.append(e)\n",
    "            name_list.append(f)\n",
    "            #sub_list.append(d)\n",
    "            #sub_list1.append(e)\n",
    "            # for k, v in sub_list:\n",
    "            #     if v == 'Neutral':\n",
    "            #         del sub_list[k]\n",
    "        \n",
    "    return senti_list,cum_score,name_list\n",
    "\n",
    "sentiment,cu_score,dname = sentence_sentiment(ratemd,3)\n",
    "print(len(sentiment))\n",
    "print(len(cu_score))\n",
    "print(len(dname))\n",
    "print(len(l))\n",
    "print(len(m))\n",
    "print(len(n))"
   ],
   "metadata": {
    "collapsed": false,
    "pycharm": {
     "name": "#%%\n"
    }
   }
  },
  {
   "cell_type": "code",
   "execution_count": null,
   "outputs": [],
   "source": [
    "#Merging all the results into single dataset for Regression Analysis - Healthgrades\n",
    "hgrd1=pd.read_excel(r'C:\\Users\\rramn\\Documents\\Healthcare_analytics\\physician_reviews_mining\\Reviews\\healthgrades1.xlsx',sheet_name=\"Sheet6\")\n",
    "hgrd2=pd.read_excel(r'C:\\Users\\rramn\\Documents\\Healthcare_analytics\\physician_reviews_mining\\Reviews\\healthgrades1.xlsx',sheet_name=\"Sheet5\")\n",
    "hgrd3=pd.read_excel(r'C:\\Users\\rramn\\Documents\\Healthcare_analytics\\physician_reviews_mining\\Reviews\\healthgrades1.xlsx',sheet_name=\"Sheet4\")\n",
    "\n",
    "tem=pd.merge(hgrd1,hgrd2,on=[\"DoctorName\"],how='left')\n",
    "tem1=pd.merge(tem,hgrd3,on=[\"DoctorName\"],how='left')\n",
    "\n",
    "tem1=tem1.fillna(0)\n",
    "np.sum(tem1.isna())\n",
    "hgrd4=pd.read_excel(r'C:\\Users\\rramn\\Documents\\Healthcare_analytics\\physician_reviews_mining\\Healthgrade_topic_result.xlsx',sheet_name=\"Sheet6\")\n",
    "\n",
    "tem2=pd.merge(tem1,hgrd4,on=[\"DoctorName\"],how='left')\n",
    "\n",
    "tem2=tem2.fillna(0)\n",
    "hgrd5=pd.read_excel(r'C:\\Users\\rramn\\Documents\\Healthcare_analytics\\physician_reviews_mining\\Reviews\\healthgrades2.xlsx')\n",
    "\n",
    "tem3=pd.merge(hgrd5,tem2,on=[\"DoctorName\"],how='left')\n",
    "\n",
    "tem3.to_excel(r'C:\\Users\\rramn\\Documents\\Healthcare_analytics\\physician_reviews_mining\\Reviews\\healthgradesfinal.xlsx',header=True)"
   ],
   "metadata": {
    "collapsed": false,
    "pycharm": {
     "name": "#%%\n"
    }
   }
  },
  {
   "cell_type": "code",
   "execution_count": null,
   "outputs": [],
   "source": [
    "#Merging all the results into single dataset for Regression Analysis - Ratemds\n",
    "\n",
    "ratemd1=pd.read_excel(r'C:\\Users\\rramn\\Documents\\Healthcare_analytics\\physician_reviews_mining\\Reviews\\ratemds1.xlsx',sheet_name=\"Sheet9\")\n",
    "ratemd2=pd.read_excel(r'C:\\Users\\rramn\\Documents\\Healthcare_analytics\\physician_reviews_mining\\Reviews\\ratemds1.xlsx',sheet_name=\"Sheet10\")\n",
    "ratemd3=pd.read_excel(r'C:\\Users\\rramn\\Documents\\Healthcare_analytics\\physician_reviews_mining\\Reviews\\ratemds1.xlsx',sheet_name=\"Sheet11\")\n",
    "\n",
    "rem=pd.merge(ratemd1,ratemd2,on=[\"Doctor_names\"],how='left')\n",
    "\n",
    "rem1=pd.merge(rem,ratemd3,on=[\"Doctor_names\"],how='left')\n",
    "\n",
    "ratemd4=pd.read_excel(r'C:\\Users\\rramn\\Documents\\Healthcare_analytics\\physician_reviews_mining\\Ratemd_topic_result.xlsx',sheet_name=\"Sheet5\")       \n",
    "\n",
    "rem2=pd.merge(rem1,ratemd4,on=[\"Doctor_names\"],how='left')\n",
    "\n",
    "rem2=rem2.fillna(0)\n",
    "ratemd5=pd.read_excel(r'C:\\Users\\rramn\\Documents\\Healthcare_analytics\\physician_reviews_mining\\ratemdswithrating.xlsx')\n",
    "ratemd5.info()\n",
    "\n",
    "rem3=pd.merge(ratemd5,rem2,on=[\"Doctor_names\"],how='left')\n"
   ],
   "metadata": {
    "collapsed": false,
    "pycharm": {
     "name": "#%%\n"
    }
   }
  }
 ],
 "metadata": {
  "kernelspec": {
   "display_name": "Python 3",
   "language": "python",
   "name": "python3"
  },
  "language_info": {
   "codemirror_mode": {
    "name": "ipython",
    "version": 2
   },
   "file_extension": ".py",
   "mimetype": "text/x-python",
   "name": "python",
   "nbconvert_exporter": "python",
   "pygments_lexer": "ipython2",
   "version": "2.7.6"
  },
  "pycharm": {
   "stem_cell": {
    "cell_type": "raw",
    "source": [],
    "metadata": {
     "collapsed": false
    }
   }
  }
 },
 "nbformat": 4,
 "nbformat_minor": 0
}