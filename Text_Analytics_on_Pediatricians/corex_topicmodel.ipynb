{
 "cells": [
  {
   "cell_type": "code",
   "execution_count": null,
   "metadata": {
    "collapsed": true
   },
   "outputs": [],
   "source": [
    "import re\n",
    "import pandas as pd\n",
    "from nltk import tokenize\n",
    "import pandas as pd\n",
    "from nltk.tokenize import word_tokenize as wt\n",
    "import nltk\n",
    "import string\n",
    "#nltk.download('averaged_perceptron_tagger')\n",
    "#nltk.download('wordnet')\n",
    "from nltk.corpus import wordnet\n",
    "import ast\n",
    "from nltk.tokenize import word_tokenize as wt\n",
    "from nltk.corpus import stopwords\n",
    "from nltk.stem import PorterStemmer\n",
    "from sklearn.feature_extraction.text import CountVectorizer\n",
    "from sklearn.metrics.pairwise import cosine_similarity"
   ]
  },
  {
   "cell_type": "code",
   "execution_count": null,
   "outputs": [],
   "source": [
    "#Reading data\n",
    "hgrd=pd.read_excel(r'C:\\Users\\rramn\\Documents\\Healthcare_analytics\\physician_reviews_mining\\healthgrades_latest.xlsx')\n",
    "ratemd=pd.read_excel(r'C:\\Users\\rramn\\Documents\\Healthcare_analytics\\physician_reviews_mining\\Reviews\\ratemds_reviews.xlsx')\n",
    "\n",
    "#For Topic modelling\n",
    "ratemdsent=pd.read_excel(r'C:\\Users\\rramn\\Documents\\Healthcare_analytics\\physician_reviews_mining\\Ratemds_vader_output.xlsx',sheet_name=\"both\")\n",
    "hgradesent=pd.read_excel(r'C:\\Users\\rramn\\Documents\\Healthcare_analytics\\physician_reviews_mining\\Healthgrades_vader_output.xlsx',sheet_name=\"both\")\n",
    "\n",
    "ratemd_sent=list(ratemdsent['Sentence'])\n",
    "hgrade_sent=list(hgradesent['Sentence'])\n",
    "# ratemd_docnames=[]\n"
   ],
   "metadata": {
    "collapsed": false,
    "pycharm": {
     "name": "#%%\n"
    }
   }
  },
  {
   "cell_type": "code",
   "execution_count": null,
   "outputs": [],
   "source": [
    "nr,nc=hgrd.shape\n",
    "nr1, nc1 = ratemd.shape\n",
    "#Initialize POS, Lemmatizer, stop words \n",
    "def get_wordnet_pos(word):\n",
    "    \"\"\"Map POS tag to first character lemmatize() accepts\"\"\"\n",
    "    tag = nltk.pos_tag([word])[0][1][0].upper()\n",
    "    tag_dict = {\"J\": wordnet.ADJ,\n",
    "                \"N\": wordnet.NOUN,\n",
    "                \"V\": wordnet.VERB,\n",
    "                \"R\": wordnet.ADV}\n",
    "\n",
    "    return tag_dict.get(tag, wordnet.NOUN)\n",
    "with open(r'C:\\Users\\rramn\\Documents\\Healthcare_analytics\\physician_reviews_mining\\stopwords.txt', \"r\") as f:\n",
    "    stop_words = f.read().splitlines()\n",
    "print(stop_words)\n",
    "# 1. Init Lemmatizer\n",
    "lemmatizer = nltk.WordNetLemmatizer()"
   ],
   "metadata": {
    "collapsed": false,
    "pycharm": {
     "name": "#%%\n"
    }
   }
  },
  {
   "cell_type": "code",
   "execution_count": null,
   "outputs": [],
   "source": [
    "#Preprocessing - Stop words removal, Lemmatization \n",
    "def preprocess(review):\n",
    "        #processedReviews = []\n",
    "    #for review in reviews:\n",
    "        review = review.lower()\n",
    "        review = \" \".join(re.findall(\"[a-z]+\", review))\n",
    "        tokens = [lemmatizer.lemmatize(w, get_wordnet_pos(w)) for w in nltk.word_tokenize(review)]\n",
    "        tokens = \" \".join([item for item in tokens if item not in stop_words])\n",
    "        #processedReviews.append(tokens)\n",
    "\n",
    "        return tokens\n",
    "sentrm=[]\n",
    "senthg=[]\n",
    "processedReviewsforRatemd = []\n",
    "processedReviewsforHgrade = []\n",
    "for i in range(len(ratemd_sent)):\n",
    "    processedReviewsforRatemd.append(preprocess(ratemd_sent[i]))\n",
    "\n",
    "for i in range(len(hgrade_sent)):\n",
    "    processedReviewsforHgrade.append(preprocess(hgrade_sent[i]))\n",
    "# processedReviewsforAll.append(preprocess(sentrm[0]))\n"
   ],
   "metadata": {
    "collapsed": false,
    "pycharm": {
     "name": "#%%\n"
    }
   }
  },
  {
   "cell_type": "code",
   "execution_count": null,
   "outputs": [],
   "source": [
    "ratemdsent['Cleaned']=processedReviewsforRatemd\n",
    "hgradesent['Cleaned']=processedReviewsforHgrade\n",
    "\n",
    "\n",
    "# Corex implementation - Rate mds\n",
    "\n",
    "#rate_rows=[]\n",
    "#for f in range(len(ratemd_sent)):\n",
    "#    rate_rows.append({\"text\":ratemd_sent[f]})\n",
    "#df=pd.DataFrame(rate_rows)\n",
    "df=ratemdsent\n",
    "from sklearn.feature_extraction.text import TfidfVectorizer\n",
    "vectorizer = TfidfVectorizer(\n",
    "    max_df=.5,\n",
    "    min_df=10,\n",
    "    max_features=None,\n",
    "    ngram_range=(1, 2),\n",
    "    norm=None,\n",
    "    binary=True,\n",
    "    use_idf=False,\n",
    "    sublinear_tf=False\n",
    ")\n",
    "vectorizer = vectorizer.fit(df['Cleaned'])\n",
    "tfidf = vectorizer.transform(df['Cleaned'])\n",
    "vocab = vectorizer.get_feature_names()\n",
    "print(len(vocab))\n",
    "\n",
    "from corextopic import corextopic as ct\n",
    "\n",
    "# Initializing\n",
    "anchors = []\n",
    "model = ct.Corex(n_hidden=6, seed=42)\n",
    "model = model.fit(\n",
    "    tfidf,\n",
    "    words=vocab\n",
    ")"
   ],
   "metadata": {
    "collapsed": false,
    "pycharm": {
     "name": "#%%\n"
    }
   }
  },
  {
   "cell_type": "code",
   "execution_count": null,
   "outputs": [],
   "source": [
    "# Corex Topic modeling\n",
    "for i, topic_ngrams in enumerate(model.get_topics(n_words=10)):\n",
    "    topic_ngrams = [ngram[0] for ngram in topic_ngrams if ngram[1] > 0]\n",
    "    print(\"Topic #{}: {}\".format(i+1, \", \".join(topic_ngrams)))"
   ],
   "metadata": {
    "collapsed": false,
    "pycharm": {
     "name": "#%%\n"
    }
   }
  },
  {
   "cell_type": "code",
   "execution_count": null,
   "outputs": [],
   "source": [
    "bg=pd.read_excel(r'C:\\Users\\rramn\\Documents\\Healthcare_analytics\\physician_reviews_mining\\Bag_ofwords.xlsx')\n",
    "bg.info()\n",
    "communication=list(bg.iloc[:,0])\n",
    "expertise=list(bg.iloc[:,1])\n",
    "time=list(bg.iloc[:,2])\n",
    "bedside=list(bg.iloc[:,3])\n",
    "office=list(bg.iloc[:,4])\n",
    "cost=list(bg.iloc[:,5])\n",
    "\n",
    "communication = [x for x in communication if str(x) != 'nan']\n",
    "expertise = [x for x in expertise if str(x) != 'nan']\n",
    "time = [x for x in time if str(x) != 'nan']\n",
    "bedside = [x for x in bedside if str(x) != 'nan']\n",
    "office = [x for x in office if str(x) != 'nan']\n",
    "cost = [x for x in cost if str(x) != 'nan']\n",
    "\n",
    "anchors = [\n",
    "    communication,\n",
    "    expertise,\n",
    "    time,\n",
    "    bedside,\n",
    "    office,\n",
    "    cost\n",
    "]\n",
    "\n",
    "model = ct.Corex(n_hidden=6, seed=42)\n",
    "model = model.fit(\n",
    "    tfidf,\n",
    "    words=vocab,\n",
    "    anchors=anchors, # Pass the anchors in here\n",
    "    anchor_strength=3 # Tell the model how much it should rely on the anchors\n",
    ")\n",
    "\n",
    "for i, topic_ngrams in enumerate(model.get_topics(n_words=10)):\n",
    "    topic_ngrams = [ngram[0] for ngram in topic_ngrams if ngram[1] > 0]\n",
    "    print(\"Topic #{}: {}\".format(i+1, \", \".join(topic_ngrams)))\n"
   ],
   "metadata": {
    "collapsed": false,
    "pycharm": {
     "name": "#%%\n"
    }
   }
  },
  {
   "cell_type": "code",
   "execution_count": null,
   "outputs": [],
   "source": [
    "topic_df = pd.DataFrame(\n",
    "    model.transform(tfidf), \n",
    "    columns=[\"topic_{}\".format(i+1) for i in range(6)]\n",
    ").astype(float)\n",
    "topic_df.index = df.index\n",
    "df = pd.concat([df, topic_df], axis=1)\n",
    "summ=list(df['topic_1']+df['topic_2']+df['topic_3']+df['topic_4']+df['topic_5']+df['topic_6'])"
   ],
   "metadata": {
    "collapsed": false,
    "pycharm": {
     "name": "#%%\n"
    }
   }
  },
  {
   "cell_type": "code",
   "execution_count": null,
   "outputs": [],
   "source": [
    "# Corex Topic modeling for Health grades\n",
    "df1=hgradesent\n",
    "from sklearn.feature_extraction.text import TfidfVectorizer\n",
    "vectorizer = TfidfVectorizer(\n",
    "    max_df=.5,\n",
    "    min_df=10,\n",
    "    max_features=None,\n",
    "    ngram_range=(1, 2),\n",
    "    norm=None,\n",
    "    binary=True,\n",
    "    use_idf=False,\n",
    "    sublinear_tf=False\n",
    ")\n",
    "vectorizer = vectorizer.fit(df1['Cleaned'])\n",
    "tfidf = vectorizer.transform(df1['Cleaned'])\n",
    "vocab = vectorizer.get_feature_names()\n",
    "print(len(vocab))\n",
    "\n",
    "from corextopic import corextopic as ct\n",
    "\n",
    "# Initializing\n",
    "anchors = []\n",
    "model = ct.Corex(n_hidden=6, seed=42)\n",
    "model = model.fit(\n",
    "    tfidf,\n",
    "    words=vocab\n",
    ")\n",
    "\n",
    "# Corex Topic modeling for Health grades\n",
    "for i, topic_ngrams in enumerate(model.get_topics(n_words=10)):\n",
    "    topic_ngrams = [ngram[0] for ngram in topic_ngrams if ngram[1] > 0]\n",
    "    print(\"Topic #{}: {}\".format(i+1, \", \".join(topic_ngrams)))\n"
   ],
   "metadata": {
    "collapsed": false,
    "pycharm": {
     "name": "#%%\n"
    }
   }
  },
  {
   "cell_type": "code",
   "execution_count": null,
   "outputs": [],
   "source": [
    "# Corex Topic modeling for Health grades\n",
    "anchors = [\n",
    "    communication,\n",
    "    expertise,\n",
    "    time,\n",
    "    bedside,\n",
    "    office,\n",
    "    cost\n",
    "]\n",
    "model = ct.Corex(n_hidden=6, seed=42)\n",
    "model = model.fit(\n",
    "    tfidf,\n",
    "    words=vocab,\n",
    "    anchors=anchors, # Pass the anchors in here\n",
    "    anchor_strength=6 # Tell the model how much it should rely on the anchors\n",
    ")\n",
    "\n",
    "for i, topic_ngrams in enumerate(model.get_topics(n_words=10)):\n",
    "    topic_ngrams = [ngram[0] for ngram in topic_ngrams if ngram[1] > 0]\n",
    "    print(\"Topic #{}: {}\".format(i+1, \", \".join(topic_ngrams)))\n"
   ],
   "metadata": {
    "collapsed": false,
    "pycharm": {
     "name": "#%%\n"
    }
   }
  },
  {
   "cell_type": "code",
   "execution_count": null,
   "outputs": [],
   "source": [
    "topic_df = pd.DataFrame(\n",
    "    model.transform(tfidf), \n",
    "    columns=[\"topic_{}\".format(i+1) for i in range(6)]\n",
    ").astype(float)\n",
    "topic_df.index = df1.index\n",
    "df1 = pd.concat([df1, topic_df], axis=1)\n",
    "\n",
    "sumhg=list(df1['topic_1']+df1['topic_2']+df1['topic_3']+df1['topic_4']+df1['topic_5']+df1['topic_6'])\n",
    "\n",
    "sum(x==0 for x in sumhg)\n"
   ],
   "metadata": {
    "collapsed": false,
    "pycharm": {
     "name": "#%%\n"
    }
   }
  },
  {
   "cell_type": "code",
   "execution_count": null,
   "outputs": [],
   "source": [
    "#Writing both the results to excel file\n",
    "\n",
    "df.to_excel('Ratemd_topic_result.xlsx',header=True)\n",
    "df1.to_excel('Healthgrade_topic_result.xlsx',header=True)\n"
   ],
   "metadata": {
    "collapsed": false,
    "pycharm": {
     "name": "#%%\n"
    }
   }
  },
  {
   "cell_type": "code",
   "execution_count": null,
   "outputs": [],
   "source": [
    "# Calculating the Control variables Words/ Review count, number of reviews, phrases/ review\n",
    "wordcount=[]\n",
    "reviewcount=[]\n",
    "phrasecount=[]\n",
    "for k in range(nr):\n",
    "    stt=hgrd.iloc[k,7]\n",
    "    wordcount.append(sum(word.strip(string.punctuation).isalpha() for word in stt.split()))\n",
    "    reviewcount.append(len(ast.literal_eval(stt)))\n",
    "    phrasecount.append(len(hgrd.iloc[k,8]))\n",
    "hgrd['Word Count']=wordcount\n",
    "hgrd['Review count']=reviewcount\n",
    "hgrd['Phrase Count']=phrasecount\n",
    "\n"
   ],
   "metadata": {
    "collapsed": false,
    "pycharm": {
     "name": "#%%\n"
    }
   }
  }
 ],
 "metadata": {
  "kernelspec": {
   "display_name": "Python 3",
   "language": "python",
   "name": "python3"
  },
  "language_info": {
   "codemirror_mode": {
    "name": "ipython",
    "version": 2
   },
   "file_extension": ".py",
   "mimetype": "text/x-python",
   "name": "python",
   "nbconvert_exporter": "python",
   "pygments_lexer": "ipython2",
   "version": "2.7.6"
  },
  "pycharm": {
   "stem_cell": {
    "cell_type": "raw",
    "source": [],
    "metadata": {
     "collapsed": false
    }
   }
  }
 },
 "nbformat": 4,
 "nbformat_minor": 0
}