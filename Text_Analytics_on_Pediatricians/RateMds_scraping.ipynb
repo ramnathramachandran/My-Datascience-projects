{
 "cells": [
  {
   "cell_type": "code",
   "execution_count": 1,
   "metadata": {
    "pycharm": {
     "is_executing": false
    }
   },
   "outputs": [],
   "source": [
    "import selenium\n",
    "import pandas as pd\n",
    "from selenium.webdriver.common.keys import Keys\n",
    "from selenium import webdriver\n",
    "import re\n",
    "from bs4 import BeautifulSoup\n",
    "import urllib\n",
    "from selenium.common.exceptions import NoSuchElementException \n",
    "from selenium.common.exceptions import WebDriverException\n",
    "import time\n",
    "import csv"
   ]
  },
  {
   "cell_type": "code",
   "execution_count": 2,
   "metadata": {
    "pycharm": {
     "is_executing": false
    }
   },
   "outputs": [],
   "source": [
    "chrome_path = \"C:/Users/rramn/Documents/Healthcare_analytics/chromedriver.exe\"\n",
    "driver = webdriver.Chrome(chrome_path)"
   ]
  },
  {
   "cell_type": "code",
   "execution_count": 3,
   "metadata": {
    "pycharm": {
     "is_executing": false
    }
   },
   "outputs": [
    {
     "name": "stdout",
     "text": [
      "14\n"
     ],
     "output_type": "stream"
    }
   ],
   "source": [
    "doctor_names = []\n",
    "page_reviews=[]\n",
    "rate_doc = []\n",
    "gender = []\n",
    "pageLinks=[]\n",
    "#pageLinks.append(\"https://www.ratemds.com/best-doctors/il/?specialty=pediatrician&page=1\")\n",
    "\n",
    "#pageLinks.append(\"https://www.ratemds.com/best-doctors/il/?specialty=pediatrician&page=2\")\n",
    "\n",
    "#pageLinks.append(\"https://www.ratemds.com/best-doctors/il/?specialty=pediatrician&page=3\")\n",
    "\n",
    "#pageLinks.append(\"https://www.ratemds.com/best-doctors/il/?specialty=pediatrician&page=4\")\n",
    "\n",
    "url=driver.get(\"https://www.ratemds.com/best-doctors/il/?specialty=pediatrician&page=71\")\n",
    "source=driver.current_url\n",
    "pageLinks.append(source)\n",
    "time.sleep(2)\n",
    "\n",
    "#num_list = [6, 8, 9, 10, 11, 11, 11, 11, 11, 11, 11, 11, 11, 11, 11, 11, 11, 11, 11, 11, 11, 11, 11, 11, 11, 11]\n",
    "\n",
    "for i in range(13):\n",
    "  try:\n",
    "    time.sleep(3)\n",
    "    driver.find_element_by_xpath('//*[@id=\"doctor-list\"]/div/nav/ul/li[11]/a'.format(i)).click()\n",
    "    source=driver.current_url\n",
    "    pageLinks.append(source)\n",
    "  except ConnectionResetError:\n",
    "    continue\n",
    "  except NoSuchElementException:\n",
    "    continue\n",
    "  except:\n",
    "    continue\n",
    "print(len(pageLinks))"
   ]
  },
  {
   "cell_type": "code",
   "execution_count": 4,
   "metadata": {
    "pycharm": {
     "is_executing": false
    }
   },
   "outputs": [],
   "source": [
    "#Getting all the individual doctor page links\n",
    "\n",
    "# for link in pageLinks:\n",
    "#     driver.get(link)\n",
    "#     doctor_list = driver.find_elements_by_class_name(\"search-item-doctor-name\")\n",
    "# \n",
    "#     for block in doctor_list:\n",
    "#         elements = block.find_elements_by_tag_name(\"a\")\n",
    "#         for el in elements:\n",
    "#             list_of_hrefs.append(el.get_attribute(\"href\"))\n",
    "#         \n",
    "#     print (list_of_hrefs)\n",
    "\n",
    "def check_element(url):\n",
    "    try:\n",
    "        driver.find_element_by_xpath(\"//i[@class='fa fa-angle-double-right']\")\n",
    "    except NoSuchElementException:\n",
    "        return False\n",
    "    return True"
   ]
  },
  {
   "cell_type": "code",
   "execution_count": 5,
   "metadata": {
    "pycharm": {
     "is_executing": false
    }
   },
   "outputs": [],
   "source": [
    "\n",
    "def doc_reviews(url):\n",
    "    list_of_hrefs = []\n",
    "    #driver.get(url)\n",
    "    doctor_list = driver.find_elements_by_id(\"doctor-list\")\n",
    "    time.sleep(1)\n",
    "    \n",
    "    for block in doctor_list:\n",
    "        elements = block.find_elements_by_class_name(\"search-item-doctor-link\")\n",
    "        for el in elements:\n",
    "            list_of_hrefs.append(el.get_attribute(\"href\"))\n",
    "    #print(len(list_of_hrefs))\n",
    "    \n",
    "    try:\n",
    "        regex = re.compile(r'^tel:')\n",
    "        href=[x for x in list_of_hrefs if not regex.match(x)]\n",
    "    except:\n",
    "        list_of_hrefs=list(filter(None,list_of_hrefs))\n",
    "        regex = re.compile(r'^tel:')\n",
    "        href=[x for x in list_of_hrefs if not regex.match(x)]\n",
    "    finally:\n",
    "        print (len(href))\n",
    "    \n",
    "    for j in range(len(href)):\n",
    "        doctor_reviews = []\n",
    "        time.sleep(3)\n",
    "        driver.get(href[j])\n",
    "        \n",
    "        time.sleep(5)\n",
    "        \n",
    "        #rate = driver.find_elements_by_class_name(\"col-sm-7\")\n",
    "        rate=driver.find_element_by_xpath(\"//div[@class='col-sm-7']\")\n",
    "        rate_doc.append(rate.text)\n",
    "        \n",
    "        #time.sleep(1)\n",
    "        #name = driver.find_element_by_tag_name(\"h1\")\n",
    "        name=driver.find_element_by_xpath(\"//h1[@itemprop='name']\")\n",
    "        doctor_names.append(name.text)\n",
    "        \n",
    "        #time.sleep(1)\n",
    "        \n",
    "        gen=driver.find_element_by_xpath(\"//a[@doctordetail='.1.0.0.0.2.0.0.1']\")\n",
    "        gender.append(gen.text)\n",
    "        \n",
    "        #time.sleep(2)\n",
    "        #reviews=driver.find_elements_by_xpath(\"//p[@class='rating-comment-body']\")\n",
    "        #reviews = driver.find_elements_by_class_name(\"rating-comment-body\")\n",
    "        #for review in reviews:\n",
    "        #  doctor_reviews.append(review.text)\n",
    "        #page_reviews.append(doctor_reviews)\n",
    "        \n",
    "        for k in range(5):\n",
    "            try:\n",
    "                reviews=driver.find_elements_by_xpath(\"//p[@class='rating-comment-body']\")\n",
    "                for review in reviews:\n",
    "                   doctor_reviews.append(review.text)\n",
    "                \n",
    "                time.sleep(2)\n",
    "                #a=driver.find_element_by_class_name(\"fa fa-angle-double-right\")\n",
    "                if check_element(url):\n",
    "                    a=driver.find_element_by_xpath(\"//i[@class='fa fa-angle-double-right']\")\n",
    "                    driver.execute_script(\"arguments[0].click();\", a)\n",
    "                    time.sleep(4)\n",
    "                    continue\n",
    "                else:\n",
    "                    break    \n",
    "                time.sleep(2)\n",
    "            except:\n",
    "                continue\n",
    "        page_reviews.append(doctor_reviews)   \n",
    "   "
   ]
  },
  {
   "cell_type": "code",
   "execution_count": 6,
   "metadata": {
    "pycharm": {
     "is_executing": false
    }
   },
   "outputs": [
    {
     "name": "stdout",
     "text": [
      "https://www.ratemds.com/best-doctors/il/?specialty=pediatrician&page=71\n",
      "10\n",
      "https://www.ratemds.com/best-doctors/il/?specialty=pediatrician&page=72\n",
      "10\n",
      "https://www.ratemds.com/best-doctors/il/?specialty=pediatrician&page=73\n",
      "10\n",
      "https://www.ratemds.com/best-doctors/il/?specialty=pediatrician&page=74\n",
      "10\n",
      "https://www.ratemds.com/best-doctors/il/?specialty=pediatrician&page=75\n",
      "10\n",
      "https://www.ratemds.com/best-doctors/il/?specialty=pediatrician&page=76\n",
      "10\n",
      "https://www.ratemds.com/best-doctors/il/?specialty=pediatrician&page=77\n",
      "10\n",
      "https://www.ratemds.com/best-doctors/il/?specialty=pediatrician&page=78\n",
      "10\n",
      "https://www.ratemds.com/best-doctors/il/?specialty=pediatrician&page=79\n",
      "10\n",
      "https://www.ratemds.com/best-doctors/il/?specialty=pediatrician&page=80\n",
      "10\n",
      "https://www.ratemds.com/best-doctors/il/?specialty=pediatrician&page=81\n",
      "10\n",
      "https://www.ratemds.com/best-doctors/il/?specialty=pediatrician&page=82\n",
      "10\n",
      "https://www.ratemds.com/best-doctors/il/?specialty=pediatrician&page=83\n",
      "10\n",
      "https://www.ratemds.com/best-doctors/il/?specialty=pediatrician&page=84\n",
      "10\n"
     ],
     "output_type": "stream"
    }
   ],
   "source": [
    "for i in range(len(pageLinks)):\n",
    "  try:\n",
    "    time.sleep(5)\n",
    "    url=driver.get(pageLinks[i])\n",
    "    print (pageLinks[i])\n",
    "    doc_reviews(url)\n",
    "  except:\n",
    "    continue"
   ]
  },
  {
   "cell_type": "code",
   "execution_count": 7,
   "metadata": {
    "pycharm": {
     "is_executing": false
    }
   },
   "outputs": [
    {
     "name": "stdout",
     "text": [
      "139\n",
      "139\n",
      "139\n",
      "139\n"
     ],
     "output_type": "stream"
    }
   ],
   "source": [
    "print(len(doctor_names))\n",
    "print(len(page_reviews))\n",
    "print(len(rate_doc))\n",
    "print(len(gender))\n",
    "d = {'Doctor_names':doctor_names, 'Doctor_Gender':gender, 'Doctor_reviews':page_reviews, 'Doctor_ratings':rate_doc}"
   ]
  },
  {
   "cell_type": "code",
   "execution_count": 8,
   "metadata": {
    "pycharm": {
     "is_executing": false
    }
   },
   "outputs": [],
   "source": [
    "df = pd.DataFrame(d)"
   ]
  },
  {
   "cell_type": "code",
   "execution_count": 9,
   "metadata": {
    "pycharm": {
     "is_executing": false
    }
   },
   "outputs": [],
   "source": [
    "df.to_csv(\"ratemds.csv\", index=False,header=True)"
   ]
  }
 ],
 "metadata": {
  "kernelspec": {
   "display_name": "Python 3",
   "language": "python",
   "name": "python3"
  },
  "language_info": {
   "codemirror_mode": {
    "name": "ipython",
    "version": 3
   },
   "file_extension": ".py",
   "mimetype": "text/x-python",
   "name": "python",
   "nbconvert_exporter": "python",
   "pygments_lexer": "ipython3",
   "version": "3.7.3"
  },
  "pycharm": {
   "stem_cell": {
    "cell_type": "raw",
    "source": [],
    "metadata": {
     "collapsed": false
    }
   }
  }
 },
 "nbformat": 4,
 "nbformat_minor": 2
}