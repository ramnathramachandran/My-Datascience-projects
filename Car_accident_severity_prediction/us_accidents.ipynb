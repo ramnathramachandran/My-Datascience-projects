{
 "cells": [
  {
   "cell_type": "code",
   "execution_count": 1,
   "metadata": {
    "collapsed": true,
    "pycharm": {
     "is_executing": false
    }
   },
   "outputs": [],
   "source": [
    "import numpy as np # linear algebra\n",
    "import pandas as pd # data processing, CSV file I/O (e.g. pd.read_csv)\n",
    "import sklearn\n",
    "from folium import folium\n",
    "from sklearn.dummy import DummyClassifier\n",
    "import matplotlib.pyplot as mp\n",
    "import seaborn as sns\n",
    "from sklearn.ensemble import RandomForestClassifier\n",
    "from sklearn.feature_selection import SelectFromModel\n",
    "from sklearn_pandas import CategoricalImputer\n",
    "from sklearn.preprocessing import LabelEncoder\n",
    "from sklearn.preprocessing import StandardScaler\n",
    "from sklearn.model_selection import train_test_split, GridSearchCV\n",
    "from sklearn import metrics\n",
    "from sklearn.linear_model import LogisticRegression\n",
    "from sklearn.ensemble import RandomForestClassifier, GradientBoostingClassifier\n",
    "from sklearn.linear_model import LogisticRegression\n",
    "from sklearn.neural_network import MLPRegressor\n",
    "from sklearn.linear_model import LogisticRegressionCV\n",
    "from scipy.stats import chi2_contingency\n",
    "from sklearn import linear_model\n",
    "from sklearn import cluster \n",
    "from scipy.spatial.distance import cdist\n",
    "from sklearn.preprocessing import MinMaxScaler\n",
    "#!pip install folium\n",
    "from folium.plugins import HeatMap\n",
    "import folium\n",
    "import scipy\n",
    "from sklearn import svm\n",
    "from sklearn.model_selection import RandomizedSearchCV\n",
    "from sklearn import preprocessing\n",
    "from sklearn.metrics import make_scorer\n",
    "from sklearn.metrics import f1_score\n",
    "from sklearn.metrics import roc_auc_score\n",
    "from sklearn.model_selection import cross_val_score\n",
    "from sklearn.multiclass import OneVsRestClassifier\n",
    "from sklearn.metrics import precision_recall_curve\n",
    "from sklearn.metrics import average_precision_score\n",
    "import matplotlib.pyplot as plt\n",
    "from sklearn.preprocessing import label_binarize"
   ]
  },
  {
   "cell_type": "code",
   "execution_count": 16,
   "outputs": [],
   "source": [
    "#  Reading Data\n",
    "rawdat=pd.read_csv(r'C:\\Users\\rramn\\Documents\\IDS_575\\us_accidents\\us_accidents.csv')\n",
    "df=rawdat\n"
   ],
   "metadata": {
    "collapsed": false,
    "pycharm": {
     "name": "#%%\n",
     "is_executing": false
    }
   }
  },
  {
   "cell_type": "code",
   "execution_count": 17,
   "outputs": [],
   "source": [
    "# Extract year, month, day, hour, & weekday information\n",
    "# Convert Start_Time and End_Time to datetypes\n",
    "df['Start_Time'] = pd.to_datetime(df['Start_Time'], errors='coerce')\n",
    "df['End_Time'] = pd.to_datetime(df['End_Time'], errors='coerce')\n",
    "\n",
    "# Extract year, month, day, hour, weekday and time_duration information\n",
    "df['Start_Year']=df['Start_Time'].dt.year\n",
    "df['Start_Month']=df['Start_Time'].dt.strftime('%b')\n",
    "df['Start_Day']=df['Start_Time'].dt.day\n",
    "df['Start_Hour']=df['Start_Time'].dt.hour\n",
    "df['Start_Weekday']=df['Start_Time'].dt.strftime('%a')\n",
    "\n",
    "# Extract the amount of time in the unit of minutes for each accident, round to the nearest integer\n",
    "td='Time_Duration'\n",
    "df[td]=round((df['End_Time']-df['Start_Time'])/np.timedelta64(1,'m'))\n"
   ],
   "metadata": {
    "collapsed": false,
    "pycharm": {
     "name": "#%%\n",
     "is_executing": false
    }
   }
  },
  {
   "cell_type": "code",
   "execution_count": 21,
   "outputs": [
    {
     "name": "stdout",
     "text": [
      "<class 'pandas.core.frame.DataFrame'>\n",
      "RangeIndex: 50564 entries, 0 to 50563\n",
      "Data columns (total 52 columns):\n",
      "TMC                      38159 non-null float64\n",
      "Severity                 50564 non-null int64\n",
      "Start_Time               50564 non-null datetime64[ns]\n",
      "End_Time                 50564 non-null datetime64[ns]\n",
      "Start_Lat                50564 non-null float64\n",
      "Start_Lng                50564 non-null float64\n",
      "End_Lat                  12405 non-null float64\n",
      "End_Lng                  12405 non-null float64\n",
      "Distance(mi)             50564 non-null float64\n",
      "Description              50564 non-null object\n",
      "Street                   50564 non-null object\n",
      "Side                     50564 non-null object\n",
      "City                     50562 non-null object\n",
      "County                   50564 non-null object\n",
      "State                    50564 non-null object\n",
      "Zipcode                  50556 non-null object\n",
      "Country                  50564 non-null object\n",
      "Timezone                 50528 non-null object\n",
      "Airport_Code             50485 non-null object\n",
      "Weather_Timestamp        49960 non-null object\n",
      "Temperature(F)           49649 non-null float64\n",
      "Wind_Chill(F)            19062 non-null float64\n",
      "Humidity(%)              49596 non-null float64\n",
      "Pressure(in)             49784 non-null float64\n",
      "Visibility(mi)           49467 non-null float64\n",
      "Wind_Direction           49826 non-null object\n",
      "Wind_Speed(mph)          43178 non-null float64\n",
      "Precipitation(in)        16645 non-null float64\n",
      "Weather_Condition        49467 non-null object\n",
      "Amenity                  50564 non-null bool\n",
      "Bump                     50564 non-null bool\n",
      "Crossing                 50564 non-null bool\n",
      "Give_Way                 50564 non-null bool\n",
      "Junction                 50564 non-null bool\n",
      "No_Exit                  50564 non-null bool\n",
      "Railway                  50564 non-null bool\n",
      "Roundabout               50564 non-null bool\n",
      "Station                  50564 non-null bool\n",
      "Stop                     50564 non-null bool\n",
      "Traffic_Calming          50564 non-null bool\n",
      "Traffic_Signal           50564 non-null bool\n",
      "Turning_Loop             50564 non-null bool\n",
      "Sunrise_Sunset           50562 non-null object\n",
      "Civil_Twilight           50562 non-null object\n",
      "Nautical_Twilight        50562 non-null object\n",
      "Astronomical_Twilight    50562 non-null object\n",
      "Start_Year               50564 non-null int64\n",
      "Start_Month              50564 non-null object\n",
      "Start_Day                50564 non-null int64\n",
      "Start_Hour               50564 non-null int64\n",
      "Start_Weekday            50564 non-null object\n",
      "Time_Duration            50564 non-null float64\n",
      "dtypes: bool(13), datetime64[ns](2), float64(14), int64(4), object(19)\n",
      "memory usage: 15.7+ MB\n"
     ],
     "output_type": "stream"
    }
   ],
   "source": [
    "#df.to_csv(r'C:\\Users\\rramn\\Documents\\IDS_575\\us_accidents\\us_accidents_new.csv',index=False)\n",
    "# Exploratory Data Analysis\n",
    "\n",
    "\n",
    "dfnew=df.drop(['ID','Source','Number'],axis=1)\n",
    "\n"
   ],
   "metadata": {
    "collapsed": false,
    "pycharm": {
     "name": "#%%\n",
     "is_executing": false
    }
   }
  },
  {
   "cell_type": "code",
   "execution_count": 25,
   "outputs": [
    {
     "name": "stdout",
     "text": [
      "<class 'pandas.core.frame.DataFrame'>\n",
      "RangeIndex: 50564 entries, 0 to 50563\n",
      "Data columns (total 52 columns):\n",
      "TMC                      38159 non-null category\n",
      "Severity                 50564 non-null int64\n",
      "Start_Time               50564 non-null datetime64[ns]\n",
      "End_Time                 50564 non-null datetime64[ns]\n",
      "Start_Lat                50564 non-null float64\n",
      "Start_Lng                50564 non-null float64\n",
      "End_Lat                  12405 non-null float64\n",
      "End_Lng                  12405 non-null float64\n",
      "Distance(mi)             50564 non-null float64\n",
      "Description              50564 non-null category\n",
      "Street                   50564 non-null category\n",
      "Side                     50564 non-null category\n",
      "City                     50562 non-null category\n",
      "County                   50564 non-null category\n",
      "State                    50564 non-null category\n",
      "Zipcode                  50556 non-null category\n",
      "Country                  50564 non-null category\n",
      "Timezone                 50528 non-null category\n",
      "Airport_Code             50485 non-null category\n",
      "Weather_Timestamp        49960 non-null category\n",
      "Temperature(F)           49649 non-null float64\n",
      "Wind_Chill(F)            19062 non-null float64\n",
      "Humidity(%)              49596 non-null float64\n",
      "Pressure(in)             49784 non-null float64\n",
      "Visibility(mi)           49467 non-null float64\n",
      "Wind_Direction           49826 non-null category\n",
      "Wind_Speed(mph)          43178 non-null float64\n",
      "Precipitation(in)        16645 non-null float64\n",
      "Weather_Condition        49467 non-null category\n",
      "Amenity                  50564 non-null bool\n",
      "Bump                     50564 non-null bool\n",
      "Crossing                 50564 non-null bool\n",
      "Give_Way                 50564 non-null bool\n",
      "Junction                 50564 non-null bool\n",
      "No_Exit                  50564 non-null bool\n",
      "Railway                  50564 non-null bool\n",
      "Roundabout               50564 non-null bool\n",
      "Station                  50564 non-null bool\n",
      "Stop                     50564 non-null bool\n",
      "Traffic_Calming          50564 non-null bool\n",
      "Traffic_Signal           50564 non-null bool\n",
      "Turning_Loop             50564 non-null bool\n",
      "Sunrise_Sunset           50562 non-null category\n",
      "Civil_Twilight           50562 non-null category\n",
      "Nautical_Twilight        50562 non-null category\n",
      "Astronomical_Twilight    50562 non-null category\n",
      "Start_Year               50564 non-null int64\n",
      "Start_Month              50564 non-null category\n",
      "Start_Day                50564 non-null int64\n",
      "Start_Hour               50564 non-null int64\n",
      "Start_Weekday            50564 non-null category\n",
      "Time_Duration            50564 non-null float64\n",
      "dtypes: bool(13), category(20), datetime64[ns](2), float64(13), int64(4)\n",
      "memory usage: 14.4 MB\n"
     ],
     "output_type": "stream"
    }
   ],
   "source": [
    "#Convert object to column type\n",
    "dfnew[dfnew.select_dtypes(['object']).columns] = dfnew.select_dtypes(['object']).apply(lambda x: x.astype('category'))\n",
    "\n",
    "dfnew['TMC']=dfnew['TMC'].astype('category')\n",
    "dfnew.info()"
   ],
   "metadata": {
    "collapsed": false,
    "pycharm": {
     "name": "#%%\n",
     "is_executing": false
    }
   }
  },
  {
   "cell_type": "code",
   "execution_count": 38,
   "outputs": [
    {
     "data": {
      "text/plain": "0.2491495925955225"
     },
     "metadata": {},
     "output_type": "execute_result",
     "execution_count": 38
    }
   ],
   "source": [
    "#Baseline model - Uniform random prediction which we removed later\n",
    "y=dfnew['Severity']\n",
    "x=dfnew.drop(['Severity'],axis=1)\n",
    "d=DummyClassifier(strategy='uniform')\n",
    "d.fit(x,y)\n",
    "yp=d.predict(x)\n",
    "metrics.accuracy_score(yp,y)"
   ],
   "metadata": {
    "collapsed": false,
    "pycharm": {
     "name": "#%%\n",
     "is_executing": false
    }
   }
  },
  {
   "cell_type": "code",
   "execution_count": 36,
   "outputs": [
    {
     "data": {
      "text/plain": "0.24893204651530734"
     },
     "metadata": {},
     "output_type": "execute_result",
     "execution_count": 36
    }
   ],
   "source": [
    "# Baseline model - Stratified Random prediction which we removed later\n",
    "dst=DummyClassifier(strategy='stratified')\n",
    "dst.fit(x,y)\n",
    "ypst=d.predict(x)\n",
    "metrics.accuracy_score(ypst,y)\n",
    "#ypst\n"
   ],
   "metadata": {
    "collapsed": false,
    "pycharm": {
     "name": "#%%\n",
     "is_executing": false
    }
   }
  },
  {
   "cell_type": "code",
   "execution_count": 52,
   "outputs": [],
   "source": [
    "#Heat map \n",
    "def plot_map1(LatLong, city=None):\n",
    "    accident_map = folium.Map(location=LatLong, \n",
    "                           tiles = \"Stamen Toner\",\n",
    "                           zoom_start = 10)\n",
    "    if city != None:\n",
    "        data_heatmap = df[df[\"City\"] == city]\n",
    "    else:\n",
    "        data_heatmap = df.copy()\n",
    "    data_heatmap = data_heatmap[['Start_Lat','Start_Lng']]\n",
    "    data_heatmap = [[row['Start_Lat'],row['Start_Lng']] for index, row in data_heatmap.iterrows()]\n",
    "    HeatMap(data_heatmap, radius=10).add_to(accident_map)\n",
    "    return accident_map\n",
    "\n",
    "def generateBaseMap(default_location=[40.693943, -73.985880], default_zoom_start=12):\n",
    "    base_map = folium.Map(location=default_location, control_scale=True, zoom_start=default_zoom_start)\n",
    "    return base_map"
   ],
   "metadata": {
    "collapsed": false,
    "pycharm": {
     "name": "#%%\n",
     "is_executing": false
    }
   }
  },
  {
   "cell_type": "code",
   "execution_count": 84,
   "outputs": [
    {
     "data": {
      "text/plain": "(112, 55)"
     },
     "metadata": {},
     "output_type": "execute_result",
     "execution_count": 84
    }
   ],
   "source": [
    "dfcopy=df.copy()\n",
    "df[df['City']=='New York'].shape\n",
    "#plot_map1([40,-74])\n",
    "#dfcopy['count'] = 1\n",
    "#base_map = generateBaseMap()\n",
    "#HeatMap(data=dfcopy[['Start_Lat', 'Start_Lng', 'count']].groupby(['Start_Lat', 'Start_Lng']).sum().reset_index().values.tolist(), radius=8, max_zoom=13).add_to(base_map)"
   ],
   "metadata": {
    "collapsed": false,
    "pycharm": {
     "name": "#%%\n",
     "is_executing": false
    }
   }
  },
  {
   "cell_type": "code",
   "execution_count": 85,
   "outputs": [],
   "source": [
    "#dfcopy.isna().sum()\n",
    "#dfcopy=dfcopy.dropna(axis=0)\n",
    "dfcopy[dfcopy.select_dtypes(['object']).columns] = dfcopy.select_dtypes(['object']).apply(lambda x: x.astype('category'))\n",
    "dfcopy=dfcopy.drop(['ID','Source','End_Lat','End_Lng','Number','Street','Wind_Chill(F)','Precipitation(in)'],axis=1)"
   ],
   "metadata": {
    "collapsed": false,
    "pycharm": {
     "name": "#%%\n",
     "is_executing": false
    }
   }
  },
  {
   "cell_type": "code",
   "execution_count": 86,
   "outputs": [
    {
     "data": {
      "text/plain": "(32136, 47)"
     },
     "metadata": {},
     "output_type": "execute_result",
     "execution_count": 86
    }
   ],
   "source": [
    "dfcopy=dfcopy.dropna(axis=0)\n",
    "dfcopy.isna().sum()\n",
    "dfcopy.shape"
   ],
   "metadata": {
    "collapsed": false,
    "pycharm": {
     "name": "#%%\n",
     "is_executing": false
    }
   }
  },
  {
   "cell_type": "code",
   "execution_count": 91,
   "outputs": [],
   "source": [
    "#Label encoding\n",
    "y=dfcopy['Severity']\n",
    "y=y.astype('category')\n",
    "x=dfcopy.drop(['Severity'],axis=1)\n",
    "cat_columns=x.select_dtypes(['category']).columns\n",
    "cat_columns\n",
    "x[cat_columns]=x[cat_columns].apply(lambda x: x.cat.codes)\n",
    "y=y.cat.codes"
   ],
   "metadata": {
    "collapsed": false,
    "pycharm": {
     "name": "#%%\n",
     "is_executing": false
    }
   }
  },
  {
   "cell_type": "code",
   "execution_count": 97,
   "outputs": [
    {
     "name": "stdout",
     "text": [
      "0.24758842443729903\n",
      "0.16076498889239157\n"
     ],
     "output_type": "stream"
    }
   ],
   "source": [
    "#Baseline model - Old one which we removed later\n",
    "x_train,x_test,y_train,y_test=train_test_split(x,y,test_size=0.3)\n",
    "d=DummyClassifier(strategy='uniform')\n",
    "d.fit(x_train,y_train)\n",
    "yp=d.predict(x_test)\n",
    "print(metrics.accuracy_score(yp,y_test))\n",
    "print(metrics.f1_score(yp,y_test,average='weighted'))"
   ],
   "metadata": {
    "collapsed": false,
    "pycharm": {
     "name": "#%%\n",
     "is_executing": false
    }
   }
  },
  {
   "cell_type": "code",
   "execution_count": 98,
   "outputs": [
    {
     "data": {
      "text/plain": "2    33909\n3    15081\n4     1560\n1       14\nName: Severity, dtype: int64"
     },
     "metadata": {},
     "output_type": "execute_result",
     "execution_count": 98
    }
   ],
   "source": [
    "df['Severity'].value_counts()"
   ],
   "metadata": {
    "collapsed": false,
    "pycharm": {
     "name": "#%%\n",
     "is_executing": false
    }
   }
  },
  {
   "cell_type": "code",
   "execution_count": 2,
   "outputs": [],
   "source": [
    "accidat=pd.read_excel(r'C:\\Users\\rramn\\Documents\\IDS_575\\us_accidents\\us_accidents_new.xlsx')"
   ],
   "metadata": {
    "collapsed": false,
    "pycharm": {
     "name": "#%%\n",
     "is_executing": false
    }
   }
  },
  {
   "cell_type": "code",
   "execution_count": 3,
   "outputs": [],
   "source": [
    "#np.sum(accidat.isna())\n",
    "#accidat.info()\n",
    "accidat['Severity'].value_counts()\n",
    "temp=accidat"
   ],
   "metadata": {
    "collapsed": false,
    "pycharm": {
     "name": "#%%\n",
     "is_executing": false
    }
   }
  },
  {
   "cell_type": "code",
   "execution_count": 4,
   "outputs": [],
   "source": [
    "#np.sum(temp.isna())\n",
    "temp=temp.dropna(axis=0)"
   ],
   "metadata": {
    "collapsed": false,
    "pycharm": {
     "name": "#%%\n",
     "is_executing": false
    }
   }
  },
  {
   "cell_type": "code",
   "execution_count": 5,
   "outputs": [
    {
     "name": "stderr",
     "text": [
      "C:\\Users\\rramn\\Anaconda3\\lib\\site-packages\\pandas\\core\\frame.py:3140: SettingWithCopyWarning: \n",
      "A value is trying to be set on a copy of a slice from a DataFrame.\n",
      "Try using .loc[row_indexer,col_indexer] = value instead\n",
      "\n",
      "See the caveats in the documentation: http://pandas.pydata.org/pandas-docs/stable/indexing.html#indexing-view-versus-copy\n",
      "  self[k1] = value[k2]\n",
      "C:\\Users\\rramn\\Anaconda3\\lib\\site-packages\\ipykernel_launcher.py:5: SettingWithCopyWarning: \n",
      "A value is trying to be set on a copy of a slice from a DataFrame.\n",
      "Try using .loc[row_indexer,col_indexer] = value instead\n",
      "\n",
      "See the caveats in the documentation: http://pandas.pydata.org/pandas-docs/stable/indexing.html#indexing-view-versus-copy\n",
      "  \"\"\"\n",
      "C:\\Users\\rramn\\Anaconda3\\lib\\site-packages\\ipykernel_launcher.py:6: SettingWithCopyWarning: \n",
      "A value is trying to be set on a copy of a slice from a DataFrame.\n",
      "Try using .loc[row_indexer,col_indexer] = value instead\n",
      "\n",
      "See the caveats in the documentation: http://pandas.pydata.org/pandas-docs/stable/indexing.html#indexing-view-versus-copy\n",
      "  \n"
     ],
     "output_type": "stream"
    },
    {
     "name": "stdout",
     "text": [
      "<class 'pandas.core.frame.DataFrame'>\n",
      "Int64Index: 49027 entries, 0 to 50563\n",
      "Data columns (total 38 columns):\n",
      "TMC                      49027 non-null category\n",
      "Severity                 49027 non-null category\n",
      "Start_Lat                49027 non-null float64\n",
      "Start_Lng                49027 non-null float64\n",
      "Distance(mi)             49027 non-null float64\n",
      "Side                     49027 non-null category\n",
      "State                    49027 non-null category\n",
      "Timezone                 49027 non-null category\n",
      "Temperature(F)           49027 non-null float64\n",
      "Humidity(%)              49027 non-null float64\n",
      "Pressure(in)             49027 non-null float64\n",
      "Visibility(mi)           49027 non-null float64\n",
      "Wind_Direction           49027 non-null category\n",
      "Wind_Speed(mph)          49027 non-null float64\n",
      "Weather_Condition        49027 non-null category\n",
      "Amenity                  49027 non-null category\n",
      "Bump                     49027 non-null category\n",
      "Crossing                 49027 non-null category\n",
      "Give_Way                 49027 non-null category\n",
      "Junction                 49027 non-null category\n",
      "No_Exit                  49027 non-null category\n",
      "Railway                  49027 non-null category\n",
      "Roundabout               49027 non-null category\n",
      "Station                  49027 non-null category\n",
      "Stop                     49027 non-null category\n",
      "Traffic_Calming          49027 non-null category\n",
      "Traffic_Signal           49027 non-null category\n",
      "Turning_Loop             49027 non-null category\n",
      "Sunrise_Sunset           49027 non-null category\n",
      "Civil_Twilight           49027 non-null category\n",
      "Nautical_Twilight        49027 non-null category\n",
      "Astronomical_Twilight    49027 non-null category\n",
      "Start_Year               49027 non-null category\n",
      "Start_Month              49027 non-null category\n",
      "Start_Day                49027 non-null int64\n",
      "Start_Hour               49027 non-null int64\n",
      "Start_Weekday            49027 non-null category\n",
      "Time_Duration            49027 non-null int64\n",
      "dtypes: category(27), float64(8), int64(3)\n",
      "memory usage: 5.8 MB\n"
     ],
     "output_type": "stream"
    }
   ],
   "source": [
    "dfnew=temp\n",
    "#Convert object to column type\n",
    "dfnew[dfnew.select_dtypes(['object','bool']).columns] = dfnew.select_dtypes(['object','bool']).apply(lambda x: x.astype('category'))\n",
    "dfnew['Severity']=dfnew['Severity'].astype('category')\n",
    "dfnew['Start_Year']=dfnew['Start_Year'].astype('category')\n",
    "dfnew.info()"
   ],
   "metadata": {
    "collapsed": false,
    "pycharm": {
     "name": "#%%\n",
     "is_executing": false
    }
   }
  },
  {
   "cell_type": "code",
   "execution_count": 27,
   "outputs": [],
   "source": [
    "#dfnew.to_excel(r'C:\\Users\\rramn\\Documents\\IDS_575\\us_accidents\\us_accidents_r.xlsx')"
   ],
   "metadata": {
    "collapsed": false,
    "pycharm": {
     "name": "#%%\n",
     "is_executing": false
    }
   }
  },
  {
   "cell_type": "code",
   "execution_count": 6,
   "outputs": [],
   "source": [
    "#Support Vector Classifier\n",
    "#Parameter Tuning\n",
    "y=dfnew['Severity']\n",
    "x=dfnew.drop(['Severity'],axis=1)\n",
    "cat_columns=x.select_dtypes(['category']).columns\n",
    "cat_columns\n",
    "x[cat_columns]=x[cat_columns].apply(lambda x: x.cat.codes)\n",
    "y=y.cat.codes\n",
    "\n"
   ],
   "metadata": {
    "collapsed": false,
    "pycharm": {
     "name": "#%%\n",
     "is_executing": false
    }
   }
  },
  {
   "cell_type": "code",
   "execution_count": null,
   "outputs": [
    {
     "name": "stderr",
     "text": [
      "C:\\Users\\rramn\\Anaconda3\\lib\\site-packages\\sklearn\\metrics\\classification.py:1143: UndefinedMetricWarning: Precision is ill-defined and being set to 0.0 in labels with no predicted samples.\n",
      "  'precision', 'predicted', average, warn_for)\n",
      "C:\\Users\\rramn\\Anaconda3\\lib\\site-packages\\sklearn\\metrics\\classification.py:1143: UndefinedMetricWarning: Precision is ill-defined and being set to 0.0 in labels with no predicted samples.\n",
      "  'precision', 'predicted', average, warn_for)\n",
      "C:\\Users\\rramn\\Anaconda3\\lib\\site-packages\\sklearn\\metrics\\classification.py:1143: UndefinedMetricWarning: Precision is ill-defined and being set to 0.0 in labels with no predicted samples.\n",
      "  'precision', 'predicted', average, warn_for)\n",
      "C:\\Users\\rramn\\Anaconda3\\lib\\site-packages\\sklearn\\metrics\\classification.py:1143: UndefinedMetricWarning: Precision is ill-defined and being set to 0.0 in labels with no predicted samples.\n",
      "  'precision', 'predicted', average, warn_for)\n",
      "C:\\Users\\rramn\\Anaconda3\\lib\\site-packages\\sklearn\\metrics\\classification.py:1143: UndefinedMetricWarning: Precision is ill-defined and being set to 0.0 in labels with no predicted samples.\n",
      "  'precision', 'predicted', average, warn_for)\n",
      "C:\\Users\\rramn\\Anaconda3\\lib\\site-packages\\sklearn\\metrics\\classification.py:1143: UndefinedMetricWarning: Precision is ill-defined and being set to 0.0 in labels with no predicted samples.\n",
      "  'precision', 'predicted', average, warn_for)\n",
      "C:\\Users\\rramn\\Anaconda3\\lib\\site-packages\\sklearn\\metrics\\classification.py:1143: UndefinedMetricWarning: Precision is ill-defined and being set to 0.0 in labels with no predicted samples.\n",
      "  'precision', 'predicted', average, warn_for)\n",
      "C:\\Users\\rramn\\Anaconda3\\lib\\site-packages\\sklearn\\metrics\\classification.py:1143: UndefinedMetricWarning: Precision is ill-defined and being set to 0.0 in labels with no predicted samples.\n",
      "  'precision', 'predicted', average, warn_for)\n",
      "C:\\Users\\rramn\\Anaconda3\\lib\\site-packages\\sklearn\\metrics\\classification.py:1143: UndefinedMetricWarning: Precision is ill-defined and being set to 0.0 in labels with no predicted samples.\n",
      "  'precision', 'predicted', average, warn_for)\n",
      "C:\\Users\\rramn\\Anaconda3\\lib\\site-packages\\sklearn\\metrics\\classification.py:1143: UndefinedMetricWarning: Precision is ill-defined and being set to 0.0 in labels with no predicted samples.\n",
      "  'precision', 'predicted', average, warn_for)\n",
      "C:\\Users\\rramn\\Anaconda3\\lib\\site-packages\\sklearn\\metrics\\classification.py:1143: UndefinedMetricWarning: Precision is ill-defined and being set to 0.0 in labels with no predicted samples.\n",
      "  'precision', 'predicted', average, warn_for)\n",
      "C:\\Users\\rramn\\Anaconda3\\lib\\site-packages\\sklearn\\metrics\\classification.py:1143: UndefinedMetricWarning: Precision is ill-defined and being set to 0.0 in labels with no predicted samples.\n",
      "  'precision', 'predicted', average, warn_for)\n",
      "C:\\Users\\rramn\\Anaconda3\\lib\\site-packages\\sklearn\\metrics\\classification.py:1143: UndefinedMetricWarning: Precision is ill-defined and being set to 0.0 in labels with no predicted samples.\n",
      "  'precision', 'predicted', average, warn_for)\n",
      "C:\\Users\\rramn\\Anaconda3\\lib\\site-packages\\sklearn\\metrics\\classification.py:1143: UndefinedMetricWarning: Precision is ill-defined and being set to 0.0 in labels with no predicted samples.\n",
      "  'precision', 'predicted', average, warn_for)\n",
      "C:\\Users\\rramn\\Anaconda3\\lib\\site-packages\\sklearn\\metrics\\classification.py:1143: UndefinedMetricWarning: Precision is ill-defined and being set to 0.0 in labels with no predicted samples.\n",
      "  'precision', 'predicted', average, warn_for)\n",
      "C:\\Users\\rramn\\Anaconda3\\lib\\site-packages\\sklearn\\metrics\\classification.py:1143: UndefinedMetricWarning: Precision is ill-defined and being set to 0.0 in labels with no predicted samples.\n",
      "  'precision', 'predicted', average, warn_for)\n",
      "C:\\Users\\rramn\\Anaconda3\\lib\\site-packages\\sklearn\\metrics\\classification.py:1143: UndefinedMetricWarning: Precision is ill-defined and being set to 0.0 in labels with no predicted samples.\n",
      "  'precision', 'predicted', average, warn_for)\n",
      "C:\\Users\\rramn\\Anaconda3\\lib\\site-packages\\sklearn\\metrics\\classification.py:1143: UndefinedMetricWarning: Precision is ill-defined and being set to 0.0 in labels with no predicted samples.\n",
      "  'precision', 'predicted', average, warn_for)\n",
      "C:\\Users\\rramn\\Anaconda3\\lib\\site-packages\\sklearn\\metrics\\classification.py:1143: UndefinedMetricWarning: Precision is ill-defined and being set to 0.0 in labels with no predicted samples.\n",
      "  'precision', 'predicted', average, warn_for)\n",
      "C:\\Users\\rramn\\Anaconda3\\lib\\site-packages\\sklearn\\metrics\\classification.py:1143: UndefinedMetricWarning: Precision is ill-defined and being set to 0.0 in labels with no predicted samples.\n",
      "  'precision', 'predicted', average, warn_for)\n",
      "C:\\Users\\rramn\\Anaconda3\\lib\\site-packages\\sklearn\\metrics\\classification.py:1143: UndefinedMetricWarning: Precision is ill-defined and being set to 0.0 in labels with no predicted samples.\n",
      "  'precision', 'predicted', average, warn_for)\n",
      "C:\\Users\\rramn\\Anaconda3\\lib\\site-packages\\sklearn\\metrics\\classification.py:1143: UndefinedMetricWarning: Precision is ill-defined and being set to 0.0 in labels with no predicted samples.\n",
      "  'precision', 'predicted', average, warn_for)\n"
     ],
     "output_type": "stream"
    }
   ],
   "source": [
    "#Parameter Tuning\n",
    "scoring=['precision_macro','recall_macro']\n",
    "tuned_parameters = [{'kernel': ['rbf'], 'gamma': [1e-3, 1e-8],'C': [1, 10, 100, 1000]}]\n",
    "ptsvm=svm.SVC()\n",
    "#dist={'C':scipy.stats.expon(scale=100), 'gamma':scipy.stats.expon(scale=.1),'kernel': ['rbf']}\n",
    "#ptclf=RandomizedSearchCV(ptsvm,dist,random_state=0,cv=5,scoring=scoring,return_train_score=True,refit='f1_macro')\n",
    "ptclf=GridSearchCV(svm.SVC(C=1), tuned_parameters, cv=3,scoring=scoring,refit='precision_macro')\n",
    "search=ptclf.fit(x,y)"
   ],
   "metadata": {
    "collapsed": false,
    "pycharm": {
     "name": "#%%\n",
     "is_executing": true
    }
   }
  },
  {
   "cell_type": "code",
   "execution_count": null,
   "outputs": [],
   "source": [
    "#xcl_train,xcl_test,ycl_train,ycl_test=train_test_split(x,y,test_size=0.3)\n",
    "#ssvm=OneVsRestClassifier(svm.SVC(C=1000,kernel='linear'))\n",
    "#ssvm=OneVsRestClassifier(svm.SVC(C=1000,kernel='rbf',gamma=1e-8))\n",
    "#scores=cross_val_score(ssvm,x,y,scoring='f1_weighted',cv=5)\n",
    "\n",
    "#sorted(sklearn.metrics.SCORERS.keys())\n",
    "\n",
    "#np.mean(scores)"
   ],
   "metadata": {
    "collapsed": false,
    "pycharm": {
     "name": "#%%\n",
     "is_executing": true
    }
   }
  },
  {
   "cell_type": "code",
   "execution_count": null,
   "outputs": [],
   "source": [
    "#SVM Final model\n",
    "y = label_binarize(y, classes=[0, 1, 2,3])\n",
    "n_classes = y.shape[1]\n",
    "xcl_train,xcl_test,ycl_train,ycl_test=train_test_split(x,y,test_size=0.3)\n",
    "#finalsvm=OneVsRestClassifier(svm.SVC(C=1000,kernel='linear'))\n",
    "finalsvm=OneVsRestClassifier(svm.SVC(C=1000,kernel='rbf',gamma=1e-8))\n",
    "finalsvm.fit(xcl_train,ycl_train)\n",
    "\n"
   ],
   "metadata": {
    "collapsed": false,
    "pycharm": {
     "name": "#%%\n",
     "is_executing": true
    }
   }
  },
  {
   "cell_type": "code",
   "execution_count": 19,
   "outputs": [],
   "source": [
    "pr=finalsvm.predict(xcl_test)\n",
    "y_score=finalsvm.decision_function(xcl_test)"
   ],
   "metadata": {
    "collapsed": false,
    "pycharm": {
     "name": "#%%\n",
     "is_executing": false
    }
   }
  },
  {
   "cell_type": "code",
   "execution_count": 26,
   "outputs": [
    {
     "name": "stdout",
     "text": [
      "0.8046541844781311\n",
      "0.999667335940218\n",
      "0.6734223725650298\n",
      "0.6729121743691358\n",
      "0.8022166082633851\n",
      "0.9997968718261223\n",
      "0.6698421339139902\n",
      "0.6692501189747774\n"
     ],
     "output_type": "stream"
    },
    {
     "name": "stderr",
     "text": [
      "C:\\Users\\rramn\\Anaconda3\\lib\\site-packages\\sklearn\\metrics\\classification.py:1145: UndefinedMetricWarning: F-score is ill-defined and being set to 0.0 in labels with no true samples.\n",
      "  'recall', 'true', average, warn_for)\n",
      "C:\\Users\\rramn\\Anaconda3\\lib\\site-packages\\sklearn\\metrics\\classification.py:1145: UndefinedMetricWarning: Recall is ill-defined and being set to 0.0 in labels with no true samples.\n",
      "  'recall', 'true', average, warn_for)\n",
      "C:\\Users\\rramn\\Anaconda3\\lib\\site-packages\\sklearn\\metrics\\classification.py:1145: UndefinedMetricWarning: F-score is ill-defined and being set to 0.0 in labels with no true samples.\n",
      "  'recall', 'true', average, warn_for)\n",
      "C:\\Users\\rramn\\Anaconda3\\lib\\site-packages\\sklearn\\metrics\\classification.py:1145: UndefinedMetricWarning: Recall is ill-defined and being set to 0.0 in labels with no true samples.\n",
      "  'recall', 'true', average, warn_for)\n"
     ],
     "output_type": "stream"
    }
   ],
   "source": [
    "trainpr=finalsvm.predict(xcl_train)\n",
    "print(metrics.f1_score(trainpr,ycl_train,average=\"weighted\"))\n",
    "print(metrics.precision_score(trainpr,ycl_train,average=\"weighted\"))\n",
    "print(metrics.recall_score(trainpr,ycl_train,average=\"weighted\"))\n",
    "print(metrics.accuracy_score(trainpr,ycl_train))\n",
    "\n",
    "print(metrics.f1_score(pr,ycl_test,average=\"weighted\"))\n",
    "print(metrics.precision_score(pr,ycl_test,average=\"weighted\"))\n",
    "print(metrics.recall_score(pr,ycl_test,average=\"weighted\"))\n",
    "print(metrics.accuracy_score(pr,ycl_test))"
   ],
   "metadata": {
    "collapsed": false,
    "pycharm": {
     "name": "#%%\n",
     "is_executing": false
    }
   }
  },
  {
   "cell_type": "code",
   "execution_count": 22,
   "outputs": [
    {
     "name": "stdout",
     "text": [
      "Average precision score, micro-averaged over all classes: 0.69\n"
     ],
     "output_type": "stream"
    }
   ],
   "source": [
    "# PR curve for each class \n",
    "precision = dict()\n",
    "recall = dict()\n",
    "average_precision = dict()\n",
    "for i in range(4):\n",
    "    precision[i], recall[i] ,_= precision_recall_curve(ycl_test[:, i],\n",
    "                                                        y_score[:, i])\n",
    "    average_precision[i] = average_precision_score(ycl_test[:, i], y_score[:, i])\n",
    "\n",
    "# A \"micro-average\": quantifying score on all classes jointly\n",
    "precision[\"weighted\"], recall[\"weighted\"], _ = precision_recall_curve(ycl_test.ravel(),\n",
    "    y_score.ravel())\n",
    "average_precision[\"weighted\"] = average_precision_score(ycl_test, y_score,average=\"weighted\")\n",
    "print('Average precision score, micro-averaged over all classes: {0:0.2f}'\n",
    "      .format(average_precision[\"weighted\"]))\n"
   ],
   "metadata": {
    "collapsed": false,
    "pycharm": {
     "name": "#%%\n",
     "is_executing": false
    }
   }
  },
  {
   "cell_type": "code",
   "source": [
    "# Plot the weighted-averaged Precision-Recall curve\n",
    "# ...............................................\n",
    "#\n",
    "plt.figure()\n",
    "plt.step(recall['weighted'], precision['weighted'], where='post')\n",
    "\n",
    "plt.xlabel('Recall')\n",
    "plt.ylabel('Precision')\n",
    "plt.ylim([0.0, 1.05])\n",
    "plt.xlim([0.0, 1.0])\n",
    "plt.title(\n",
    "    'Average precision score, micro-averaged over all classes: AP={0:0.2f}'\n",
    "    .format(average_precision[\"weighted\"]))\n",
    "\n"
   ],
   "metadata": {
    "collapsed": false,
    "pycharm": {
     "name": "#%%\n",
     "is_executing": false
    }
   },
   "execution_count": 23,
   "outputs": [
    {
     "data": {
      "text/plain": "Text(0.5, 1.0, 'Average precision score, micro-averaged over all classes: AP=0.69')"
     },
     "metadata": {},
     "output_type": "execute_result",
     "execution_count": 23
    },
    {
     "data": {
      "text/plain": "<Figure size 432x288 with 1 Axes>",
      "image/png": "[encoded data removed]"
     },
     "metadata": {
      "needs_background": "light"
     },
     "output_type": "display_data"
    }
   ]
  },
  {
   "cell_type": "code",
   "execution_count": 25,
   "outputs": [
    {
     "data": {
      "text/plain": "numpy.ndarray"
     },
     "metadata": {},
     "output_type": "execute_result",
     "execution_count": 25
    }
   ],
   "source": [
    "\n",
    "\n"
   ],
   "metadata": {
    "collapsed": false,
    "pycharm": {
     "name": "#%%\n",
     "is_executing": false
    }
   }
  },
  {
   "cell_type": "code",
   "execution_count": 24,
   "outputs": [
    {
     "data": {
      "text/plain": "<Figure size 504x576 with 1 Axes>",
      "image/png": "[encoded data removed]"
     },
     "metadata": {
      "needs_background": "light"
     },
     "output_type": "display_data"
    }
   ],
   "source": [
    "# Plot Precision-Recall curve for each class and iso-f1 curves\n",
    "# .............................................................\n",
    "#\n",
    "from itertools import cycle\n",
    "# setup plot details\n",
    "colors = cycle(['navy', 'turquoise', 'darkorange', 'cornflowerblue', 'teal'])\n",
    "\n",
    "plt.figure(figsize=(7, 8))\n",
    "f_scores = np.linspace(0.2, 0.8, num=4)\n",
    "lines = []\n",
    "labels = []\n",
    "for f_score in f_scores:\n",
    "    X = np.linspace(0.01, 1)\n",
    "    Y = f_score * X / (2 * X - f_score)\n",
    "    l, = plt.plot(X[Y >= 0], Y[Y >= 0], color='gray', alpha=0.2)\n",
    "    plt.annotate('f1={0:0.1f}'.format(f_score), xy=(0.9, Y[45] + 0.02))\n",
    "\n",
    "lines.append(l)\n",
    "labels.append('iso-f1 curves')\n",
    "l, = plt.plot(recall[\"weighted\"], precision[\"weighted\"], color='gold', lw=2)\n",
    "lines.append(l)\n",
    "labels.append('micro-average Precision-recall (area = {0:0.2f})'\n",
    "              ''.format(average_precision[\"weighted\"]))\n",
    "\n",
    "for i, color in zip(range(n_classes), colors):\n",
    "    l, = plt.plot(recall[i], precision[i], color=color, lw=2)\n",
    "    lines.append(l)\n",
    "    labels.append('Precision-recall for class {0} (area = {1:0.2f})'\n",
    "                  ''.format(i, average_precision[i]))\n",
    "\n",
    "fig = plt.gcf()\n",
    "fig.subplots_adjust(bottom=0.25)\n",
    "plt.xlim([0.0, 1.0])\n",
    "plt.ylim([0.0, 1.05])\n",
    "plt.xlabel('Recall')\n",
    "plt.ylabel('Precision')\n",
    "plt.title('Extension of Precision-Recall curve to multi-class')\n",
    "plt.legend(lines, labels, loc=(0, -.38), prop=dict(size=14))\n",
    "\n",
    "\n",
    "plt.show()"
   ],
   "metadata": {
    "collapsed": false,
    "pycharm": {
     "name": "#%%\n",
     "is_executing": false
    }
   }
  },
  {
   "cell_type": "code",
   "execution_count": 16,
   "outputs": [
    {
     "data": {
      "text/plain": "3"
     },
     "metadata": {},
     "output_type": "execute_result",
     "execution_count": 16
    }
   ],
   "source": [
    "np.max(ycl_test)\n"
   ],
   "metadata": {
    "collapsed": false,
    "pycharm": {
     "name": "#%%\n",
     "is_executing": false
    }
   }
  }
 ],
 "metadata": {
  "kernelspec": {
   "display_name": "Python 3",
   "language": "python",
   "name": "python3"
  },
  "language_info": {
   "codemirror_mode": {
    "name": "ipython",
    "version": 2
   },
   "file_extension": ".py",
   "mimetype": "text/x-python",
   "name": "python",
   "nbconvert_exporter": "python",
   "pygments_lexer": "ipython2",
   "version": "2.7.6"
  },
  "pycharm": {
   "stem_cell": {
    "cell_type": "raw",
    "source": [],
    "metadata": {
     "collapsed": false
    }
   }
  }
 },
 "nbformat": 4,
 "nbformat_minor": 0
}