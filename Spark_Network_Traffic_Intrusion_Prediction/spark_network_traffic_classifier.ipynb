{
 "cells": [
  {
   "cell_type": "code",
   "execution_count": 1,
   "metadata": {},
   "outputs": [
    {
     "data": {
      "text/html": [
       "<style scoped>\n",
       "  .ansiout {\n",
       "    display: block;\n",
       "    unicode-bidi: embed;\n",
       "    white-space: pre-wrap;\n",
       "    word-wrap: break-word;\n",
       "    word-break: break-all;\n",
       "    font-family: \"Source Code Pro\", \"Menlo\", monospace;;\n",
       "    font-size: 13px;\n",
       "    color: #555;\n",
       "    margin-left: 4px;\n",
       "    line-height: 19px;\n",
       "  }\n",
       "</style>\n",
       "<div class=\"ansiout\"></div>"
      ]
     },
     "metadata": {},
     "output_type": "display_data"
    }
   ],
   "source": [
    "AWS_ACCESS_KEY = \"\"\n",
    "AWS_SECRET_KEY = \"\"\n",
    "sc._jsc.hadoopConfiguration().set(\n",
    "\"fs.s3n.awsAccessKeyId\", AWS_ACCESS_KEY)\n",
    "sc._jsc.hadoopConfiguration().set(\n",
    "\"fs.s3n.awsSecretAccessKey\", AWS_SECRET_KEY)"
   ]
  },
  {
   "cell_type": "code",
   "execution_count": 2,
   "metadata": {},
   "outputs": [
    {
     "data": {
      "text/html": [
       "<style scoped>\n",
       "  .ansiout {\n",
       "    display: block;\n",
       "    unicode-bidi: embed;\n",
       "    white-space: pre-wrap;\n",
       "    word-wrap: break-word;\n",
       "    word-break: break-all;\n",
       "    font-family: \"Source Code Pro\", \"Menlo\", monospace;;\n",
       "    font-size: 13px;\n",
       "    color: #555;\n",
       "    margin-left: 4px;\n",
       "    line-height: 19px;\n",
       "  }\n",
       "</style>\n",
       "<div class=\"ansiout\"></div>"
      ]
     },
     "metadata": {},
     "output_type": "display_data"
    }
   ],
   "source": [
    "import time\n",
    "from pyspark.sql import SparkSession\n",
    "from pyspark.ml.feature import StringIndexer, VectorAssembler\n",
    "from pyspark.ml import Pipeline\n",
    "from pyspark.ml.classification import LogisticRegression, DecisionTreeClassifier, \\\n",
    "                                      NaiveBayes, RandomForestClassifier\n",
    "from pyspark.ml.evaluation import MulticlassClassificationEvaluator\n",
    "from pyspark.sql.functions import regexp_replace\n",
    "import sys\n",
    "import logging\n",
    "import mlflow\n",
    "import mlflow.mleap\n",
    "import pandas as pd\n",
    "import numpy as np"
   ]
  },
  {
   "cell_type": "code",
   "execution_count": 3,
   "metadata": {},
   "outputs": [
    {
     "data": {
      "text/html": [
       "<style scoped>\n",
       "  .ansiout {\n",
       "    display: block;\n",
       "    unicode-bidi: embed;\n",
       "    white-space: pre-wrap;\n",
       "    word-wrap: break-word;\n",
       "    word-break: break-all;\n",
       "    font-family: \"Source Code Pro\", \"Menlo\", monospace;;\n",
       "    font-size: 13px;\n",
       "    color: #555;\n",
       "    margin-left: 4px;\n",
       "    line-height: 19px;\n",
       "  }\n",
       "</style>\n",
       "<div class=\"ansiout\"></div>"
      ]
     },
     "metadata": {},
     "output_type": "display_data"
    }
   ],
   "source": [
    "#spark = SparkSession.builder.appName(\"Network Attacks Classifier\").master(\"local\").getOrCreate()\n",
    "#spark.sparkContext.setLogLevel(\"ERROR\")\n",
    "start = time.time()\n",
    "dataset=spark.read.csv(\"s3://sparkml/networktrafficdata.csv\",header=True, inferSchema = True)\n",
    "dataset=dataset.toDF(*dataset.columns)"
   ]
  },
  {
   "cell_type": "code",
   "execution_count": 4,
   "metadata": {},
   "outputs": [
    {
     "data": {
      "text/html": [
       "<style scoped>\n",
       "  .ansiout {\n",
       "    display: block;\n",
       "    unicode-bidi: embed;\n",
       "    white-space: pre-wrap;\n",
       "    word-wrap: break-word;\n",
       "    word-break: break-all;\n",
       "    font-family: \"Source Code Pro\", \"Menlo\", monospace;;\n",
       "    font-size: 13px;\n",
       "    color: #555;\n",
       "    margin-left: 4px;\n",
       "    line-height: 19px;\n",
       "  }\n",
       "</style>\n",
       "<div class=\"ansiout\">&lt;&gt;:1: DeprecationWarning: invalid escape sequence \\.\n",
       "&lt;&gt;:1: DeprecationWarning: invalid escape sequence \\.\n",
       "&lt;command-692560893596990&gt;:1: DeprecationWarning: invalid escape sequence \\.\n",
       "  dataset = dataset.withColumn(&#34;label&#34;, regexp_replace(&#34;label&#34;, &#34;\\.&#34;, &#34;&#34;))\n",
       "Dataset sizes: 4898431 samples, 42 features\n",
       "</div>"
      ]
     },
     "metadata": {},
     "output_type": "display_data"
    }
   ],
   "source": [
    "dataset = dataset.withColumn(\"label\", regexp_replace(\"label\", \"\\.\", \"\"))\n",
    "print(\"Dataset sizes: {row} samples, {cols} features\".format(row=dataset.count(), cols=len(dataset.columns)))"
   ]
  },
  {
   "cell_type": "code",
   "execution_count": 5,
   "metadata": {},
   "outputs": [
    {
     "data": {
      "text/html": [
       "<style scoped>\n",
       "  .ansiout {\n",
       "    display: block;\n",
       "    unicode-bidi: embed;\n",
       "    white-space: pre-wrap;\n",
       "    word-wrap: break-word;\n",
       "    word-break: break-all;\n",
       "    font-family: \"Source Code Pro\", \"Menlo\", monospace;;\n",
       "    font-size: 13px;\n",
       "    color: #555;\n",
       "    margin-left: 4px;\n",
       "    line-height: 19px;\n",
       "  }\n",
       "</style>\n",
       "<div class=\"ansiout\"></div>"
      ]
     },
     "metadata": {},
     "output_type": "display_data"
    }
   ],
   "source": [
    "dataset=dataset.withColumnRenamed(\" flag\",\"flag\")"
   ]
  },
  {
   "cell_type": "code",
   "execution_count": 6,
   "metadata": {},
   "outputs": [
    {
     "data": {
      "text/html": [
       "<style scoped>\n",
       "  .ansiout {\n",
       "    display: block;\n",
       "    unicode-bidi: embed;\n",
       "    white-space: pre-wrap;\n",
       "    word-wrap: break-word;\n",
       "    word-break: break-all;\n",
       "    font-family: \"Source Code Pro\", \"Menlo\", monospace;;\n",
       "    font-size: 13px;\n",
       "    color: #555;\n",
       "    margin-left: 4px;\n",
       "    line-height: 19px;\n",
       "  }\n",
       "</style>\n",
       "<div class=\"ansiout\"></div>"
      ]
     },
     "metadata": {},
     "output_type": "display_data"
    }
   ],
   "source": [
    "#Data Transformation Pipelining\n",
    "categorical_features = [\"protocol_type\", \"service\", \"flag\"]\n",
    "indexers = [StringIndexer(inputCol=column, outputCol=column + \"_num\") for column in categorical_features]\n",
    "indexers.append(StringIndexer(inputCol=\"label\", outputCol=\"label_num\"))\n",
    "pipeline = Pipeline(stages=indexers)\n",
    "dataset = pipeline.fit(dataset).transform(dataset)\n",
    "\n",
    "exclude_list = categorical_features + [\"label\", \"label_num\"]\n",
    "numerical_cols = [col for col in dataset.columns if col not in exclude_list]\n"
   ]
  },
  {
   "cell_type": "code",
   "execution_count": 7,
   "metadata": {},
   "outputs": [
    {
     "data": {
      "text/html": [
       "<style scoped>\n",
       "  .ansiout {\n",
       "    display: block;\n",
       "    unicode-bidi: embed;\n",
       "    white-space: pre-wrap;\n",
       "    word-wrap: break-word;\n",
       "    word-break: break-all;\n",
       "    font-family: \"Source Code Pro\", \"Menlo\", monospace;;\n",
       "    font-size: 13px;\n",
       "    color: #555;\n",
       "    margin-left: 4px;\n",
       "    line-height: 19px;\n",
       "  }\n",
       "</style>\n",
       "<div class=\"ansiout\"></div>"
      ]
     },
     "metadata": {},
     "output_type": "display_data"
    }
   ],
   "source": [
    "#Feature Engineering\n",
    "#df_assembler = VectorAssembler(inputCols=numerical_cols, outputCol=\"features\")\n",
    "#dataset = df_assembler.transform(dataset)\n",
    "# dataset.printSchema()\n",
    "\n",
    "#dataset = dataset.select([\"features\",\"label_num\"])\n",
    "# dataset.printSchema()\n",
    "\n",
    "#train_set, test_set = dataset.randomSplit([0.75, 0.25], seed=2019)\n",
    "#print(\"Training set Count: \" + str(train_set.count()))\n",
    "#print(\"Test set Count: \" + str(test_set.count()))"
   ]
  },
  {
   "cell_type": "code",
   "execution_count": 8,
   "metadata": {},
   "outputs": [
    {
     "data": {
      "text/html": [
       "<style scoped>\n",
       "  .ansiout {\n",
       "    display: block;\n",
       "    unicode-bidi: embed;\n",
       "    white-space: pre-wrap;\n",
       "    word-wrap: break-word;\n",
       "    word-break: break-all;\n",
       "    font-family: \"Source Code Pro\", \"Menlo\", monospace;;\n",
       "    font-size: 13px;\n",
       "    color: #555;\n",
       "    margin-left: 4px;\n",
       "    line-height: 19px;\n",
       "  }\n",
       "</style>\n",
       "<div class=\"ansiout\"></div>"
      ]
     },
     "metadata": {},
     "output_type": "display_data"
    }
   ],
   "source": [
    "#Model Selection\n",
    "# Logistic Regression model\n",
    "lr = LogisticRegression(maxIter=20, regParam=0.3, elasticNetParam=0.8, featuresCol=\"features\",\n",
    "                        labelCol=\"label_num\", family=\"multinomial\")\n",
    "\n",
    "# Decision Tree model\n",
    "dt = DecisionTreeClassifier(labelCol=\"label_num\", featuresCol=\"features\",  maxBins=70)\n",
    "\n",
    "# Random Forest model\n",
    "rf = RandomForestClassifier(labelCol=\"label_num\", featuresCol=\"features\", numTrees=20, maxBins=70)\n",
    "\n",
    "classifiers = {\"Logistic Regression\": lr, \"Decision Tree\": dt,\n",
    "               \"Random Forest\": rf}\n",
    "\n",
    "metrics = [\"accuracy\", \"weightedPrecision\", \"weightedRecall\", \"f1\"]"
   ]
  },
  {
   "cell_type": "code",
   "execution_count": 9,
   "metadata": {},
   "outputs": [
    {
     "data": {
      "text/html": [
       "<style scoped>\n",
       "  .ansiout {\n",
       "    display: block;\n",
       "    unicode-bidi: embed;\n",
       "    white-space: pre-wrap;\n",
       "    word-wrap: break-word;\n",
       "    word-break: break-all;\n",
       "    font-family: \"Source Code Pro\", \"Menlo\", monospace;;\n",
       "    font-size: 13px;\n",
       "    color: #555;\n",
       "    margin-left: 4px;\n",
       "    line-height: 19px;\n",
       "  }\n",
       "</style>\n",
       "<div class=\"ansiout\"></div>"
      ]
     },
     "metadata": {},
     "output_type": "display_data"
    }
   ],
   "source": [
    "# print(\"\\nModels Evaluation:\")\n",
    "# print(\"{:-<30}\".format(\"\"))\n",
    "# for c in classifiers:\n",
    "# \tprint(c)\n",
    "# \t# fit the model\n",
    "# \tmodel = classifiers[c].fit(train_set)\n",
    "\t\n",
    "# \t# make predictions\n",
    "# \tpredictions = model.transform(test_set)\n",
    "# \tpredictions.cache()\n",
    "\t\n",
    "# \t# evaluate performance\n",
    "# \tevaluator = MulticlassClassificationEvaluator(labelCol=\"label_num\", predictionCol=\"prediction\")\n",
    "\t\n",
    "# \tfor m in metrics:\n",
    "# \t\tevaluator.setMetricName(m)\n",
    "# \t\tmetric = evaluator.evaluate(predictions)\n",
    "# \t\tprint(\"{name} = {value:.2f}\".format(name=m, value=metric))\n",
    "\t\n",
    "# \tprint(\"{:-<30}\".format(\"\"))"
   ]
  },
  {
   "cell_type": "code",
   "execution_count": 10,
   "metadata": {},
   "outputs": [
    {
     "data": {
      "text/html": [
       "<style scoped>\n",
       "  .ansiout {\n",
       "    display: block;\n",
       "    unicode-bidi: embed;\n",
       "    white-space: pre-wrap;\n",
       "    word-wrap: break-word;\n",
       "    word-break: break-all;\n",
       "    font-family: \"Source Code Pro\", \"Menlo\", monospace;;\n",
       "    font-size: 13px;\n",
       "    color: #555;\n",
       "    margin-left: 4px;\n",
       "    line-height: 19px;\n",
       "  }\n",
       "</style>\n",
       "<div class=\"ansiout\"></div>"
      ]
     },
     "metadata": {},
     "output_type": "display_data"
    }
   ],
   "source": [
    "#Running the best model using mlflow\n",
    "traindf, testdf = dataset.randomSplit([0.80, 0.20], seed=2020)\n",
    "def trainmodel():\n",
    "  df_assembler = VectorAssembler(inputCols=numerical_cols, outputCol=\"features\")\n",
    "  rfnew=RandomForestClassifier(labelCol=\"label_num\", featuresCol=\"features\", numTrees=30, maxDepth=10, maxBins=70)\n",
    "  pl=Pipeline(stages=[df_assembler,rfnew])\n",
    "  model=pl.fit(traindf)\n",
    "  prediction=model.transform(testdf)\n",
    "  evaluator = MulticlassClassificationEvaluator(labelCol=\"label_num\", predictionCol=\"prediction\")\n",
    "  \n",
    "  for m in metrics:\n",
    "    evaluator.setMetricName(m)\n",
    "    metric = evaluator.evaluate(prediction)\n",
    "    mlflow.log_metric(m,metric)\n",
    "    print(\"{name} = {value:.2f}\".format(name=m, value=metric))\n",
    "  \n",
    "  \n",
    "  mlflow.log_param(\"featuresCol\", \"features\")\n",
    "  mlflow.log_param(\"labelCol\", \"label_num\")\n",
    "  mlflow.log_param(\"numTrees\", 30)\n",
    "  mlflow.log_param(\"maxDepth\", 10)\n",
    "  mlflow.log_param(\"maxBins\", 70)\n",
    "  mlflow.mleap.log_model(spark_model=model, sample_input=testdf, artifact_path=\"spark_network_traffic_model\")\n",
    "  mlflow.end_run()\n",
    "  "
   ]
  },
  {
   "cell_type": "code",
   "execution_count": 11,
   "metadata": {},
   "outputs": [
    {
     "data": {
      "text/html": [
       "<style scoped>\n",
       "  .ansiout {\n",
       "    display: block;\n",
       "    unicode-bidi: embed;\n",
       "    white-space: pre-wrap;\n",
       "    word-wrap: break-word;\n",
       "    word-break: break-all;\n",
       "    font-family: \"Source Code Pro\", \"Menlo\", monospace;;\n",
       "    font-size: 13px;\n",
       "    color: #555;\n",
       "    margin-left: 4px;\n",
       "    line-height: 19px;\n",
       "  }\n",
       "</style>\n",
       "<div class=\"ansiout\">accuracy = 1.00\n",
       "weightedPrecision = 1.00\n",
       "weightedRecall = 1.00\n",
       "f1 = 1.00\n",
       "</div>"
      ]
     },
     "metadata": {},
     "output_type": "display_data"
    }
   ],
   "source": [
    "with mlflow.start_run() as run:\n",
    "  trainmodel()"
   ]
  },
  {
   "cell_type": "code",
   "execution_count": 12,
   "metadata": {},
   "outputs": [
    {
     "data": {
      "text/html": [
       "<style scoped>\n",
       "  .ansiout {\n",
       "    display: block;\n",
       "    unicode-bidi: embed;\n",
       "    white-space: pre-wrap;\n",
       "    word-wrap: break-word;\n",
       "    word-break: break-all;\n",
       "    font-family: \"Source Code Pro\", \"Menlo\", monospace;;\n",
       "    font-size: 13px;\n",
       "    color: #555;\n",
       "    margin-left: 4px;\n",
       "    line-height: 19px;\n",
       "  }\n",
       "</style>\n",
       "<div class=\"ansiout\"></div>"
      ]
     },
     "metadata": {},
     "output_type": "display_data"
    }
   ],
   "source": [
    "#import mlflow.sagemaker as mfs\n",
    "#mlflow.get_artifact_uri('spark_network_traffic_model')\n",
    "#mlflow.tracking.get_tracking_uri() \n",
    "#mfs.DEFAULT_IMAGE_NAME"
   ]
  },
  {
   "cell_type": "code",
   "execution_count": 13,
   "metadata": {},
   "outputs": [
    {
     "data": {
      "text/html": [
       "<style scoped>\n",
       "  .ansiout {\n",
       "    display: block;\n",
       "    unicode-bidi: embed;\n",
       "    white-space: pre-wrap;\n",
       "    word-wrap: break-word;\n",
       "    word-break: break-all;\n",
       "    font-family: \"Source Code Pro\", \"Menlo\", monospace;;\n",
       "    font-size: 13px;\n",
       "    color: #555;\n",
       "    margin-left: 4px;\n",
       "    line-height: 19px;\n",
       "  }\n",
       "</style>\n",
       "<div class=\"ansiout\">Out[80]: &lt;Run: data=&lt;RunData: metrics={&#39;accuracy&#39;: 0.9996098083157815,\n",
       " &#39;f1&#39;: 0.9995639243773748,\n",
       " &#39;weightedPrecision&#39;: 0.9996070252066136,\n",
       " &#39;weightedRecall&#39;: 0.9996098083157813}, params={&#39;featuresCol&#39;: &#39;features&#39;,\n",
       " &#39;labelCol&#39;: &#39;label_num&#39;,\n",
       " &#39;maxBins&#39;: &#39;70&#39;,\n",
       " &#39;maxDepth&#39;: &#39;10&#39;,\n",
       " &#39;numTrees&#39;: &#39;30&#39;}, tags={&#39;mlflow.databricks.cluster.id&#39;: &#39;0906-165337-timer312&#39;,\n",
       " &#39;mlflow.databricks.cluster.info&#39;: &#39;{&#34;cluster_id&#34;:&#34;0906-165337-timer312&#34;,&#34;creator_user_id&#34;:7151952614704296,&#34;driver&#34;:{&#34;public_dns&#34;:&#34;ec2-18-237-58-126.us-west-2.compute.amazonaws.com&#34;,&#34;ui_uri&#34;:&#34;http://10.172.247.22:43323&#34;,&#34;memory_mb&#34;:10347,&#34;node_id&#34;:&#34;0ff8ec8038644bf08cf885cfaece9202&#34;,&#34;node_aws_attributes&#34;:{&#34;is_spot&#34;:false},&#34;instance_id&#34;:&#34;i-0e13ed76cf07a8068&#34;,&#34;start_timestamp&#34;:1599423659924,&#34;host_private_ip&#34;:&#34;10.172.245.188&#34;,&#34;private_ip&#34;:&#34;10.172.247.22&#34;},&#34;driver_uri&#34;:&#34;https://10.172.247.22:6060&#34;,&#34;driver_ui_uri&#34;:&#34;http://10.172.247.22:43323&#34;,&#34;spark_context_id&#34;:8370450891800309979,&#34;driver_healthy&#34;:true,&#34;jdbc_port&#34;:10000,&#34;cluster_name&#34;:&#34;Ramnath&#34;,&#34;spark_version&#34;:&#34;7.2.x-scala2.12&#34;,&#34;spark_conf&#34;:{&#34;spark.databricks.delta.preview.enabled&#34;:&#34;true&#34;},&#34;cluster_creator&#34;:&#34;WEBAPP&#34;,&#34;aws_attributes&#34;:{&#34;zone_id&#34;:&#34;us-west-2c&#34;,&#34;first_on_demand&#34;:0,&#34;availability&#34;:&#34;ON_DEMAND&#34;,&#34;spot_bid_price_percent&#34;:100,&#34;ebs_volume_count&#34;:0},&#34;node_type_id&#34;:&#34;dev-tier-node&#34;,&#34;driver_node_type_id&#34;:&#34;dev-tier-node&#34;,&#34;spark_env_vars&#34;:{&#34;PYSPARK_PYTHON&#34;:&#34;/databricks/python3/bin/python3&#34;},&#34;autotermination_minutes&#34;:120,&#34;enable_elastic_disk&#34;:false,&#34;disk_spec&#34;:{&#34;disk_count&#34;:0},&#34;cluster_source&#34;:&#34;UI&#34;,&#34;enable_jdbc_auto_start&#34;:true,&#34;enable_jobs_autostart&#34;:true,&#34;enable_local_disk_encryption&#34;:false,&#34;package_label&#34;:&#34;release__7.2.x-snapshot-scala2.12__databricks-universe__head__f6cc114__c3546c1__jenkins__89ae7c8__format-2&#34;,&#34;state&#34;:&#34;RUNNING&#34;,&#34;state_message&#34;:&#34;&#34;,&#34;start_time&#34;:1599411217559,&#34;terminated_time&#34;:0,&#34;last_state_loss_time&#34;:1599423716668,&#34;last_command_completion_time&#34;:1599423680846,&#34;last_activity_time&#34;:1599423680846,&#34;creator_org_id&#34;:7474965780391700,&#34;num_workers&#34;:0,&#34;cluster_memory_mb&#34;:15616,&#34;cluster_cores&#34;:2.0,&#34;creator_user_name&#34;:&#34;rramac9@uic.edu&#34;,&#34;acl_path&#34;:&#34;/clusters/0906-165337-timer312&#34;,&#34;init_scripts_safe_mode&#34;:false}&#39;,\n",
       " &#39;mlflow.databricks.notebookID&#39;: &#39;2921259872676851&#39;,\n",
       " &#39;mlflow.databricks.notebookPath&#39;: &#39;/Users/rramac9@uic.edu/spark_network_traffic_classifier&#39;,\n",
       " &#39;mlflow.databricks.notebookRevisionID&#39;: &#39;1599450192994&#39;,\n",
       " &#39;mlflow.databricks.webappURL&#39;: &#39;https://community.cloud.databricks.com&#39;,\n",
       " &#39;mlflow.log-model.history&#39;: &#39;[{&#34;run_id&#34;:&#34;585995d94fbc469c820eda98ce80aa79&#34;,&#34;artifact_path&#34;:&#34;spark_network_traffic_model&#34;,&#34;utc_time_created&#34;:&#34;2020-09-07 &#39;\n",
       "                             &#39;03:42:27.868063&#34;,&#34;flavors&#34;:{&#34;mleap&#34;:{&#34;mleap_version&#34;:&#34;0.16.1&#34;,&#34;model_data&#34;:&#34;mleap/model&#34;}}}]&#39;,\n",
       " &#39;mlflow.source.name&#39;: &#39;/Users/rramac9@uic.edu/spark_network_traffic_classifier&#39;,\n",
       " &#39;mlflow.source.type&#39;: &#39;NOTEBOOK&#39;,\n",
       " &#39;mlflow.user&#39;: &#39;rramac9@uic.edu&#39;}&gt;, info=&lt;RunInfo: artifact_uri=&#39;dbfs:/databricks/mlflow/2921259872676851/585995d94fbc469c820eda98ce80aa79/artifacts&#39;, end_time=1599450192888, experiment_id=&#39;2921259872676851&#39;, lifecycle_stage=&#39;active&#39;, run_id=&#39;585995d94fbc469c820eda98ce80aa79&#39;, run_uuid=&#39;585995d94fbc469c820eda98ce80aa79&#39;, start_time=1599449089860, status=&#39;FINISHED&#39;, user_id=&#39;&#39;&gt;&gt;</div>"
      ]
     },
     "metadata": {},
     "output_type": "display_data"
    }
   ],
   "source": [
    "mlflow.get_run('585995d94fbc469c820eda98ce80aa79')"
   ]
  }
 ],
 "metadata": {
  "kernelspec": {
   "display_name": "Python 3",
   "language": "python",
   "name": "python3"
  },
  "language_info": {
   "codemirror_mode": {
    "name": "ipython",
    "version": 3
   },
   "file_extension": ".py",
   "mimetype": "text/x-python",
   "name": "python",
   "nbconvert_exporter": "python",
   "pygments_lexer": "ipython3",
   "version": "3.7.1"
  },
  "name": "spark_network_traffic_classifier",
  "notebookId": 2921259872676851
 },
 "nbformat": 4,
 "nbformat_minor": 1
}
